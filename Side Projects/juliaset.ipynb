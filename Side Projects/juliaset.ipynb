{
 "cells": [
  {
   "cell_type": "code",
   "execution_count": 2,
   "metadata": {},
   "outputs": [],
   "source": [
    "from PIL import Image\n",
    "\n",
    "# Define the properties of the fractal\n",
    "width, height = 800, 800\n",
    "max_iter = 1000\n",
    "\n",
    "# Define the complex constant c for the Julia set\n",
    "c = complex(-0.8, 0.156)\n",
    "\n",
    "# Create a blank image with a white background\n",
    "image = Image.new(\"RGB\", (width, height), \"white\")\n",
    "pixels = image.load()\n",
    "\n",
    "# Generate the Julia fractal\n",
    "for y in range(height):\n",
    "    for x in range(width):\n",
    "        zx, zy = x * (3.5 / width) - 1.75, y * (3.5 / height) - 1.75\n",
    "        z = complex(zx, zy)\n",
    "        count = 0\n",
    "\n",
    "        while count < max_iter and abs(z) < 2.0:\n",
    "            z = z * z + c\n",
    "            count += 1\n",
    "\n",
    "        # Color the pixel based on the number of iterations\n",
    "        if count < max_iter:\n",
    "            # Black for points inside the Julia set\n",
    "            pixels[x, y] = (0, 0, 0)\n",
    "        else:\n",
    "            # Gradient for points outside the Julia set\n",
    "            color_value = int(count / max_iter * 255)\n",
    "            pixels[x, y] = (color_value, color_value, color_value)\n",
    "\n",
    "# Show the image in a new window\n",
    "image.show()\n",
    "\n",
    "# # Save the image\n",
    "# image.save(\"julia_fractal.png\", \"PNG\")\n"
   ]
  }
 ],
 "metadata": {
  "kernelspec": {
   "display_name": "Python 3",
   "language": "python",
   "name": "python3"
  },
  "language_info": {
   "codemirror_mode": {
    "name": "ipython",
    "version": 3
   },
   "file_extension": ".py",
   "mimetype": "text/x-python",
   "name": "python",
   "nbconvert_exporter": "python",
   "pygments_lexer": "ipython3",
   "version": "3.10.6"
  },
  "orig_nbformat": 4
 },
 "nbformat": 4,
 "nbformat_minor": 2
}
