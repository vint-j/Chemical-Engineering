{
 "cells": [
  {
   "attachments": {},
   "cell_type": "markdown",
   "metadata": {},
   "source": [
    "(1a)"
   ]
  },
  {
   "cell_type": "code",
   "execution_count": 4,
   "metadata": {},
   "outputs": [
    {
     "data": {
      "text/latex": [
       "$\\displaystyle \\frac{d}{d t} N_{1}{\\left(t \\right)} = - 1247.1 N_{1}{\\left(t \\right)} + 2494.2 N_{2}{\\left(t \\right)} + 2.00465078983241 \\cdot 10^{-6}$"
      ],
      "text/plain": [
       "Eq(Derivative(N_1(t), t), -1247.1*N_1(t) + 2494.2*N_2(t) + 2.00465078983241e-6)"
      ]
     },
     "metadata": {},
     "output_type": "display_data"
    },
    {
     "data": {
      "text/latex": [
       "$\\displaystyle \\frac{d}{d t} N_{2}{\\left(t \\right)} = 1247.1 N_{1}{\\left(t \\right)} - 4988.4 N_{2}{\\left(t \\right)} + 1$"
      ],
      "text/plain": [
       "Eq(Derivative(N_2(t), t), 1247.1*N_1(t) - 4988.4*N_2(t) + 1)"
      ]
     },
     "metadata": {},
     "output_type": "display_data"
    },
    {
     "data": {
      "text/latex": [
       "$\\displaystyle N_{1}{\\left(t \\right)} = 0.000801863530832796 - 8.52681880388216 e^{- 5688.71251285389 t} + 88.7120169403513 e^{- 546.787487146108 t}$"
      ],
      "text/plain": [
       "Eq(N_1(t), 0.000801863530832796 - 8.52681880388216*exp(-5688.71251285389*t) + 88.7120169403513*exp(-546.787487146108*t))"
      ]
     },
     "metadata": {},
     "output_type": "display_data"
    },
    {
     "data": {
      "text/latex": [
       "$\\displaystyle N_{2}{\\left(t \\right)} = 0.00040093096169144 + 15.1843577476389 e^{- 5688.71251285389 t} + 24.9082413213994 e^{- 546.787487146108 t}$"
      ],
      "text/plain": [
       "Eq(N_2(t), 0.00040093096169144 + 15.1843577476389*exp(-5688.71251285389*t) + 24.9082413213994*exp(-546.787487146108*t))"
      ]
     },
     "metadata": {},
     "output_type": "display_data"
    }
   ],
   "source": [
    "import sympy as sp\n",
    "t=sp.symbols('t',real=True)\n",
    "n1,n2=sp.Function('N_1')(t),sp.Function('N_2')(t)\n",
    "p0,poo,k1,k2,R,T0,Vrate=1,1,1,1,8.314,300,0.3/60\n",
    "p1=n1*R*T0/2\n",
    "p2=n2*R*T0\n",
    "#diffeq\n",
    "tank1=sp.Eq(n1.diff(),(p0*Vrate)/(R*T0)-(k1*(p1-p2)))\n",
    "tank2=sp.Eq(n2.diff(),(k1*(p1-p2))-(k2*(p2-poo)))\n",
    "display(tank1,tank2)\n",
    "ics={n1.subs(t,0):80.186,n2.subs(t,0):40.093}\n",
    "sol=sp.dsolve([tank1,tank2],[n1,n2],ics=ics)\n",
    "display(sol[0],sol[1])"
   ]
  },
  {
   "attachments": {},
   "cell_type": "markdown",
   "metadata": {},
   "source": [
    "(b)\n",
    "N1(0)=80.186mol N2(0)=40.093mol\n",
    "(c)"
   ]
  },
  {
   "cell_type": "code",
   "execution_count": 91,
   "metadata": {},
   "outputs": [],
   "source": [
    "A=sp.Matrix([[0.015,-0.03],[-0.015,0.04]])\n",
    "B=sp.Matrix([10,1.5])\n"
   ]
  },
  {
   "attachments": {},
   "cell_type": "markdown",
   "metadata": {},
   "source": [
    "Q2"
   ]
  },
  {
   "cell_type": "code",
   "execution_count": 54,
   "metadata": {},
   "outputs": [
    {
     "data": {
      "text/latex": [
       "$\\displaystyle 1.0 l r \\left(\\theta - \\sin{\\left(\\theta \\right)}\\right) - \\lambda \\left(l \\theta + 2 r \\left(\\theta - \\sin{\\left(\\theta \\right)}\\right)\\right)$"
      ],
      "text/plain": [
       "1.0*l*r*(theta - sin(theta)) - lambda*(l*theta + 2*r*(theta - sin(theta)))"
      ]
     },
     "metadata": {},
     "output_type": "display_data"
    },
    {
     "data": {
      "text/latex": [
       "$\\displaystyle - \\lambda r \\theta + 0.5 r^{2} \\left(\\theta - \\sin{\\left(\\theta \\right)}\\right)$"
      ],
      "text/plain": [
       "-lambda*r*theta + 0.5*r**2*(theta - sin(theta))"
      ]
     },
     "metadata": {},
     "output_type": "display_data"
    },
    {
     "data": {
      "text/latex": [
       "$\\displaystyle 0.5 l r^{2} \\cdot \\left(1 - \\cos{\\left(\\theta \\right)}\\right) - \\lambda \\left(l r + r^{2} \\cdot \\left(1 - \\cos{\\left(\\theta \\right)}\\right)\\right)$"
      ],
      "text/plain": [
       "0.5*l*r**2*(1 - cos(theta)) - lambda*(l*r + r**2*(1 - cos(theta)))"
      ]
     },
     "metadata": {},
     "output_type": "display_data"
    },
    {
     "data": {
      "text/latex": [
       "$\\displaystyle \\pi$"
      ],
      "text/plain": [
       "pi"
      ]
     },
     "metadata": {},
     "output_type": "display_data"
    },
    {
     "data": {
      "text/latex": [
       "$\\displaystyle 2.0 \\lambda$"
      ],
      "text/plain": [
       "2.0*lambda"
      ]
     },
     "metadata": {},
     "output_type": "display_data"
    },
    {
     "data": {
      "text/latex": [
       "$\\displaystyle 4.0 \\lambda$"
      ],
      "text/plain": [
       "4.0*lambda"
      ]
     },
     "metadata": {},
     "output_type": "display_data"
    }
   ],
   "source": [
    "import sympy as sp\n",
    "\n",
    "r,l,t,L=sp.symbols('r l theta lambda')\n",
    "f=0.5*r*r*l*(t-sp.sin(t))\n",
    "g=r*t*l+r*r*(t-sp.sin(t))-20\n",
    "\n",
    "x,y,z=f.diff(r)-L*g.diff(r),f.diff(l)-L*g.diff(l),f.diff(t)-L*g.diff(t)\n",
    "display(x,y,z)\n",
    "theta=sp.pi\n",
    "R = sp.solve(y.subs(t,theta),r)[1]\n",
    "le =sp.solve(x.subs(r,R).subs(t,theta),l)[0]\n",
    "display(theta,R,le)"
   ]
  },
  {
   "cell_type": "code",
   "execution_count": 59,
   "metadata": {},
   "outputs": [],
   "source": [
    "lam=sp.solve(g.subs(r,R).subs(t,theta).subs(l,le),L)[1]"
   ]
  },
  {
   "cell_type": "code",
   "execution_count": 64,
   "metadata": {},
   "outputs": [],
   "source": [
    "rad = sp.solve(y.subs(t,theta).subs(L,lam),r)[1]"
   ]
  },
  {
   "cell_type": "code",
   "execution_count": 67,
   "metadata": {},
   "outputs": [],
   "source": [
    "length=sp.solve(z.subs(r,rad).subs(t,theta).subs(L,lam),l)[0]"
   ]
  },
  {
   "cell_type": "code",
   "execution_count": 68,
   "metadata": {},
   "outputs": [
    {
     "data": {
      "text/latex": [
       "$\\displaystyle \\pi$"
      ],
      "text/plain": [
       "pi"
      ]
     },
     "metadata": {},
     "output_type": "display_data"
    },
    {
     "data": {
      "text/latex": [
       "$\\displaystyle 1.45673124078944$"
      ],
      "text/plain": [
       "1.45673124078944"
      ]
     },
     "metadata": {},
     "output_type": "display_data"
    },
    {
     "data": {
      "text/latex": [
       "$\\displaystyle 2.91346248157887$"
      ],
      "text/plain": [
       "2.91346248157887"
      ]
     },
     "metadata": {},
     "output_type": "display_data"
    }
   ],
   "source": [
    "display(theta,rad,length)"
   ]
  },
  {
   "attachments": {},
   "cell_type": "markdown",
   "metadata": {},
   "source": [
    "x = r * cos(θ)\n",
    "y = r * sin(θ)"
   ]
  },
  {
   "cell_type": "code",
   "execution_count": 75,
   "metadata": {},
   "outputs": [
    {
     "data": {
      "text/latex": [
       "$\\displaystyle 11 \\pi$"
      ],
      "text/plain": [
       "11*pi"
      ]
     },
     "metadata": {},
     "output_type": "display_data"
    }
   ],
   "source": [
    "x,y=sp.symbols('x,y')\n",
    "Area=sp.sqrt(x*x+y*y)\n",
    "r,t =sp.symbols('r theta')\n",
    "\n",
    "M=sp.integrate(Area.subs(x,r*sp.cos(t)).subs(y,r*sp.sin(t)),(r,5,6),(t,0,2*sp.pi))\n",
    "display(M)"
   ]
  },
  {
   "cell_type": "code",
   "execution_count": 90,
   "metadata": {},
   "outputs": [
    {
     "data": {
      "text/latex": [
       "$\\displaystyle \\frac{671 \\pi}{2}$"
      ],
      "text/plain": [
       "671*pi/2"
      ]
     },
     "metadata": {},
     "output_type": "display_data"
    }
   ],
   "source": [
    "I=sp.integrate(r*r*Area.subs(x,r*sp.cos(t)).subs(y,r*sp.sin(t)),(r,5,6),(t,0,2*sp.pi))\n",
    "display(I)"
   ]
  },
  {
   "cell_type": "code",
   "execution_count": 97,
   "metadata": {},
   "outputs": [],
   "source": [
    "A=sp.series(sp.log(1+x*x),n=10)"
   ]
  },
  {
   "cell_type": "code",
   "execution_count": 96,
   "metadata": {},
   "outputs": [],
   "source": [
    "B=sp.series(sp.sin(2*x),n=10)"
   ]
  },
  {
   "cell_type": "code",
   "execution_count": 89,
   "metadata": {},
   "outputs": [
    {
     "data": {
      "text/latex": [
       "$\\displaystyle \\frac{2}{5} - \\frac{7 x^{2}}{75} + \\frac{98 x^{4}}{1125} - \\frac{16481 x^{6}}{236250} + \\frac{33172 x^{8}}{590625} + O\\left(x^{10}\\right)$"
      ],
      "text/plain": [
       "2/5 - 7*x**2/75 + 98*x**4/1125 - 16481*x**6/236250 + 33172*x**8/590625 + O(x**10)"
      ]
     },
     "execution_count": 89,
     "metadata": {},
     "output_type": "execute_result"
    }
   ],
   "source": [
    "sp.series((2*sp.log(1+x*x))/(x*sp.sin(2*x)+3*x*x),n=10)"
   ]
  },
  {
   "attachments": {},
   "cell_type": "markdown",
   "metadata": {},
   "source": [
    "as x->0 =>2/5"
   ]
  }
 ],
 "metadata": {
  "kernelspec": {
   "display_name": "Python 3",
   "language": "python",
   "name": "python3"
  },
  "language_info": {
   "codemirror_mode": {
    "name": "ipython",
    "version": 3
   },
   "file_extension": ".py",
   "mimetype": "text/x-python",
   "name": "python",
   "nbconvert_exporter": "python",
   "pygments_lexer": "ipython3",
   "version": "3.10.10"
  },
  "orig_nbformat": 4,
  "vscode": {
   "interpreter": {
    "hash": "4b3e0e454d5156437b77771f7777f5b07eed2973436ab5487dc2ba419a00b05a"
   }
  }
 },
 "nbformat": 4,
 "nbformat_minor": 2
}
