{
 "cells": [
  {
   "attachments": {},
   "cell_type": "markdown",
   "metadata": {},
   "source": [
    "Q1A\n",
    "\n",
    "Pi = 500bar Pf = 750bar T=200k\n",
    "\n",
    "z=a+bp\n",
    "PV=NRT\n",
    "Z=PV/nRT\n",
    "assuming n =cst\n",
    "units of R =L bar/mol K = 8.3145x10-3\n",
    "Z=a+bPi=PiVi/RT\n",
    "0.28+0.00208x500=1.32\n",
    "\n",
    "1.32=500*vi/8.314x10-3*200\n",
    "Vi=0.00439L\n",
    "vi=4.39cm^3\n",
    "\n",
    "Z=0.28+0.00208*750=1.84\n",
    "1.84=750*vf/8.314x10-3*200\n",
    "vf=4.08cm^3\n",
    "\n",
    "Wisothermal=RT ln (vf/vi)\n",
    "=-121.77j negitive sign indicates compression"
   ]
  }
 ],
 "metadata": {
  "language_info": {
   "name": "python"
  },
  "orig_nbformat": 4
 },
 "nbformat": 4,
 "nbformat_minor": 2
}
