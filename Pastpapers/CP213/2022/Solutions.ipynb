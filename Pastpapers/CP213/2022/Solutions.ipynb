{
 "cells": [
  {
   "attachments": {},
   "cell_type": "markdown",
   "metadata": {},
   "source": [
    "(1a)"
   ]
  },
  {
   "cell_type": "code",
   "execution_count": 32,
   "metadata": {},
   "outputs": [
    {
     "data": {
      "text/latex": [
       "$\\displaystyle - 0.748305 N_{1}{\\left(t \\right)} + 1.49661 N_{2}{\\left(t \\right)} + 12.0271814300319$"
      ],
      "text/plain": [
       "-0.748305*N_1(t) + 1.49661*N_2(t) + 12.0271814300319"
      ]
     },
     "metadata": {},
     "output_type": "display_data"
    },
    {
     "data": {
      "text/latex": [
       "$\\displaystyle 0.748305 N_{1}{\\left(t \\right)} - 2.99322 N_{2}{\\left(t \\right)} + 60$"
      ],
      "text/plain": [
       "0.748305*N_1(t) - 2.99322*N_2(t) + 60"
      ]
     },
     "metadata": {},
     "output_type": "display_data"
    }
   ],
   "source": [
    "\n",
    "import sympy as sp\n",
    "\n",
    "t = sp.symbols('t')\n",
    "\n",
    "N1,N2=sp.Function('N_1')(t),sp.Function('N_2')(t)\n",
    "V1=2000 #L\n",
    "V2=1000 #L\n",
    "R=8.3145e-2 #Lbar/molK\n",
    "Vin=300 #l/min\n",
    "P0=1 #bar\n",
    "T0=300 #K\n",
    "k=1*60 #mol/min bar\n",
    "P1,P2=N1*R*T0/V1,N2*R*T0/V2\n",
    "dN1dt=P0*Vin/(R*T0)-k*(P1-P2)\n",
    "dN2dt=k*(P1-P2)-k*(P2-P0)\n",
    "display(dN1dt,dN2dt)"
   ]
  },
  {
   "attachments": {},
   "cell_type": "markdown",
   "metadata": {},
   "source": [
    "(B)\n",
    "at t=0 N1=PV/RT=80.181 mol N2=PV/RT=40.09 mol"
   ]
  },
  {
   "cell_type": "code",
   "execution_count": 34,
   "metadata": {},
   "outputs": [
    {
     "data": {
      "text/latex": [
       "$\\displaystyle \\left[\\begin{matrix}-0.748305 & 1.49661\\\\0.748305 & -2.99322\\end{matrix}\\right]$"
      ],
      "text/plain": [
       "Matrix([\n",
       "[-0.748305,  1.49661],\n",
       "[ 0.748305, -2.99322]])"
      ]
     },
     "metadata": {},
     "output_type": "display_data"
    },
    {
     "data": {
      "text/latex": [
       "$\\displaystyle \\left[\\begin{matrix}12.0271814300319\\\\60\\end{matrix}\\right]$"
      ],
      "text/plain": [
       "Matrix([\n",
       "[12.0271814300319],\n",
       "[              60]])"
      ]
     },
     "metadata": {},
     "output_type": "display_data"
    }
   ],
   "source": [
    "#C\n",
    "odematrix=sp.Matrix([dN1dt,dN2dt])\n",
    "A=odematrix.jacobian([N1,N2])\n",
    "k=odematrix-A*sp.Matrix([N1,N2])\n",
    "display(A,k)"
   ]
  },
  {
   "cell_type": "code",
   "execution_count": null,
   "metadata": {},
   "outputs": [],
   "source": [
    "#D"
   ]
  },
  {
   "attachments": {},
   "cell_type": "markdown",
   "metadata": {},
   "source": [
    "Q2"
   ]
  },
  {
   "cell_type": "code",
   "execution_count": 33,
   "metadata": {},
   "outputs": [
    {
     "data": {
      "text/latex": [
       "$\\displaystyle 1.0 l r \\left(\\theta - \\sin{\\left(\\theta \\right)}\\right) - \\lambda \\left(l \\theta + 2 r \\left(\\theta - \\sin{\\left(\\theta \\right)}\\right)\\right)$"
      ],
      "text/plain": [
       "1.0*l*r*(theta - sin(theta)) - lambda*(l*theta + 2*r*(theta - sin(theta)))"
      ]
     },
     "metadata": {},
     "output_type": "display_data"
    },
    {
     "data": {
      "text/latex": [
       "$\\displaystyle - \\lambda r \\theta + 0.5 r^{2} \\left(\\theta - \\sin{\\left(\\theta \\right)}\\right)$"
      ],
      "text/plain": [
       "-lambda*r*theta + 0.5*r**2*(theta - sin(theta))"
      ]
     },
     "metadata": {},
     "output_type": "display_data"
    },
    {
     "data": {
      "text/latex": [
       "$\\displaystyle 0.5 l r^{2} \\cdot \\left(1 - \\cos{\\left(\\theta \\right)}\\right) - \\lambda \\left(l r + r^{2} \\cdot \\left(1 - \\cos{\\left(\\theta \\right)}\\right)\\right)$"
      ],
      "text/plain": [
       "0.5*l*r**2*(1 - cos(theta)) - lambda*(l*r + r**2*(1 - cos(theta)))"
      ]
     },
     "metadata": {},
     "output_type": "display_data"
    },
    {
     "data": {
      "text/latex": [
       "$\\displaystyle \\pi$"
      ],
      "text/plain": [
       "pi"
      ]
     },
     "metadata": {},
     "output_type": "display_data"
    },
    {
     "data": {
      "text/latex": [
       "$\\displaystyle 2.0 \\lambda$"
      ],
      "text/plain": [
       "2.0*lambda"
      ]
     },
     "metadata": {},
     "output_type": "display_data"
    },
    {
     "data": {
      "text/latex": [
       "$\\displaystyle 4.0 \\lambda$"
      ],
      "text/plain": [
       "4.0*lambda"
      ]
     },
     "metadata": {},
     "output_type": "display_data"
    }
   ],
   "source": [
    "import sympy as sp\n",
    "\n",
    "r,l,t,L=sp.symbols('r l theta lambda')\n",
    "f=0.5*r*r*l*(t-sp.sin(t))\n",
    "g=r*t*l+r*r*(t-sp.sin(t))-20\n",
    "\n",
    "x,y,z=f.diff(r)-L*g.diff(r),f.diff(l)-L*g.diff(l),f.diff(t)-L*g.diff(t)\n",
    "display(x,y,z)\n",
    "theta=sp.pi\n",
    "R = sp.solve(y.subs(t,theta),r)[1]\n",
    "le =sp.solve(x.subs(r,R).subs(t,theta),l)[0]\n",
    "display(theta,R,le)"
   ]
  },
  {
   "cell_type": "code",
   "execution_count": 59,
   "metadata": {},
   "outputs": [],
   "source": [
    "lam=sp.solve(g.subs(r,R).subs(t,theta).subs(l,le),L)[1]"
   ]
  },
  {
   "cell_type": "code",
   "execution_count": 64,
   "metadata": {},
   "outputs": [],
   "source": [
    "rad = sp.solve(y.subs(t,theta).subs(L,lam),r)[1]"
   ]
  },
  {
   "cell_type": "code",
   "execution_count": 67,
   "metadata": {},
   "outputs": [],
   "source": [
    "length=sp.solve(z.subs(r,rad).subs(t,theta).subs(L,lam),l)[0]"
   ]
  },
  {
   "cell_type": "code",
   "execution_count": 68,
   "metadata": {},
   "outputs": [
    {
     "data": {
      "text/latex": [
       "$\\displaystyle \\pi$"
      ],
      "text/plain": [
       "pi"
      ]
     },
     "metadata": {},
     "output_type": "display_data"
    },
    {
     "data": {
      "text/latex": [
       "$\\displaystyle 1.45673124078944$"
      ],
      "text/plain": [
       "1.45673124078944"
      ]
     },
     "metadata": {},
     "output_type": "display_data"
    },
    {
     "data": {
      "text/latex": [
       "$\\displaystyle 2.91346248157887$"
      ],
      "text/plain": [
       "2.91346248157887"
      ]
     },
     "metadata": {},
     "output_type": "display_data"
    }
   ],
   "source": [
    "display(theta,rad,length)"
   ]
  },
  {
   "attachments": {},
   "cell_type": "markdown",
   "metadata": {},
   "source": [
    "x = r * cos(θ)\n",
    "y = r * sin(θ)"
   ]
  },
  {
   "cell_type": "code",
   "execution_count": 75,
   "metadata": {},
   "outputs": [
    {
     "data": {
      "text/latex": [
       "$\\displaystyle 11 \\pi$"
      ],
      "text/plain": [
       "11*pi"
      ]
     },
     "metadata": {},
     "output_type": "display_data"
    }
   ],
   "source": [
    "x,y=sp.symbols('x,y')\n",
    "Area=sp.sqrt(x*x+y*y)\n",
    "r,t =sp.symbols('r theta')\n",
    "\n",
    "M=sp.integrate(Area.subs(x,r*sp.cos(t)).subs(y,r*sp.sin(t)),(r,5,6),(t,0,2*sp.pi))\n",
    "display(M)"
   ]
  },
  {
   "cell_type": "code",
   "execution_count": 90,
   "metadata": {},
   "outputs": [
    {
     "data": {
      "text/latex": [
       "$\\displaystyle \\frac{671 \\pi}{2}$"
      ],
      "text/plain": [
       "671*pi/2"
      ]
     },
     "metadata": {},
     "output_type": "display_data"
    }
   ],
   "source": [
    "I=sp.integrate(r*r*Area.subs(x,r*sp.cos(t)).subs(y,r*sp.sin(t)),(r,5,6),(t,0,2*sp.pi))\n",
    "display(I)"
   ]
  },
  {
   "cell_type": "code",
   "execution_count": 97,
   "metadata": {},
   "outputs": [],
   "source": [
    "A=sp.series(sp.log(1+x*x),n=10)"
   ]
  },
  {
   "cell_type": "code",
   "execution_count": 96,
   "metadata": {},
   "outputs": [],
   "source": [
    "B=sp.series(sp.sin(2*x),n=10)"
   ]
  },
  {
   "cell_type": "code",
   "execution_count": 89,
   "metadata": {},
   "outputs": [
    {
     "data": {
      "text/latex": [
       "$\\displaystyle \\frac{2}{5} - \\frac{7 x^{2}}{75} + \\frac{98 x^{4}}{1125} - \\frac{16481 x^{6}}{236250} + \\frac{33172 x^{8}}{590625} + O\\left(x^{10}\\right)$"
      ],
      "text/plain": [
       "2/5 - 7*x**2/75 + 98*x**4/1125 - 16481*x**6/236250 + 33172*x**8/590625 + O(x**10)"
      ]
     },
     "execution_count": 89,
     "metadata": {},
     "output_type": "execute_result"
    }
   ],
   "source": [
    "sp.series((2*sp.log(1+x*x))/(x*sp.sin(2*x)+3*x*x),n=10)"
   ]
  },
  {
   "attachments": {},
   "cell_type": "markdown",
   "metadata": {},
   "source": [
    "as x->0 =>2/5"
   ]
  }
 ],
 "metadata": {
  "kernelspec": {
   "display_name": "Python 3",
   "language": "python",
   "name": "python3"
  },
  "language_info": {
   "codemirror_mode": {
    "name": "ipython",
    "version": 3
   },
   "file_extension": ".py",
   "mimetype": "text/x-python",
   "name": "python",
   "nbconvert_exporter": "python",
   "pygments_lexer": "ipython3",
   "version": "3.10.10"
  },
  "orig_nbformat": 4,
  "vscode": {
   "interpreter": {
    "hash": "4b3e0e454d5156437b77771f7777f5b07eed2973436ab5487dc2ba419a00b05a"
   }
  }
 },
 "nbformat": 4,
 "nbformat_minor": 2
}
