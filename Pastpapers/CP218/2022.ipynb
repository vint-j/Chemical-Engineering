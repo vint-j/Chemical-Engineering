{
 "cells": [
  {
   "attachments": {},
   "cell_type": "markdown",
   "metadata": {},
   "source": [
    "Q1A\n",
    "\n",
    "Spring in compression spring exerts f=-kx, k=spring cst and x=displacement, since displacement is in the positive direction Fspring will be in the negitive direction pusing the bar,\n",
    "\n",
    "B\n",
    "\n",
    "dR(x)/dx +b(x)=0,\n",
    "\n",
    "C\n",
    "\n",
    "d(E*A)du/dx/dx =-b0,\n",
    "\n",
    "D\n",
    "\n",
    "d(E*A)du/dx=-bo*x +c1,\n",
    "EAu(x)=-bo*x*x/2+c1*x+c2,\n",
    " \n",
    "E\n",
    "\n",
    "On bars left u(0)=0,\n",
    "EAu(0)=-bo*0*0/2+c1*x+c2,\n",
    "0=-bo*0*0/2+c1*0+c2,\n",
    "c2=0,\n",
    "\n",
    "F\n",
    "\n",
    "On bars right, \n",
    "d(E*A)du/dx=-b0*L+c1,\n",
    "\n",
    "BC2 => F= E*A*du/dx,\n",
    "\n",
    "-k(L-x) = E*A*du/dx,\n",
    "\n",
    "-k(L-x) = -b0*L +c1,\n",
    "c1 = b0*L-k(L-x)\n",
    "\n",
    "EAu(x)=-b0x^2/2 +x(b0*L-k(L-x)) \n",
    "EAu(x)=b0xL-b0x^2/2-kx(L-x)\n",
    "\n",
    "G\n",
    "\n",
    "\n",
    "\n",
    "\n",
    "\n",
    "\n",
    "\n",
    "\n",
    "\n",
    "\n"
   ]
  }
 ],
 "metadata": {
  "language_info": {
   "name": "python"
  },
  "orig_nbformat": 4
 },
 "nbformat": 4,
 "nbformat_minor": 2
}
