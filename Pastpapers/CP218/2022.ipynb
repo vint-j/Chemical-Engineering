{
 "cells": [
  {
   "attachments": {},
   "cell_type": "markdown",
   "metadata": {},
   "source": [
    "Q1A\n",
    "\n",
    "Spring in compression spring exerts f=-kx, k=spring cst and x=displacement, since displacement is in the positive direction Fspring will be in the negitive direction pusing the bar,\n",
    "\n",
    "B\n",
    "\n",
    "dR(x)/dx +b(x)=0,\n",
    "\n",
    "C\n",
    "\n",
    "d(E*A)du/dx/dx =-b0,\n",
    "\n",
    "D\n",
    "\n",
    "d(E*A)du/dx=-bo*x +c1,\n",
    "EAu(x)=-bo*x*x/2+c1*x+c2,\n",
    " \n",
    "E\n",
    "\n",
    "On bars left u(0)=0,\n",
    "EAu(0)=-bo*0*0/2+c1*x+c2,\n",
    "0=-bo*0*0/2+c1*0+c2,\n",
    "c2=0,\n",
    "\n",
    "F\n",
    "\n",
    "on bar right EAdu/dx = -b0x +c1\n",
    "BC2 at wall x=L  -b0L  + c1 = -ku(L) \n",
    "\n",
    "AEu(L)=-b0L^2/2+c1*L\n",
    "u(L)=-(b0L^2/2-c1*L)/AE\n",
    "\n",
    "b0L+c1 = k(b0L^2/2-c1*L)/AE\n",
    "c1+c1*k*l/AE =k*b0*L^2/2AE-b0L\n",
    "c1(1+kl/AE)=kb0l^2/2AE-b0L\n",
    "c1=(kb0l^2/2AE-b0L)/(1+kl/AE)\n",
    "\n",
    "EAu(x)=-bo*x*x/2+x*(kb0L^2/2AE-b0L)/(1+kL/AE)\n",
    "u(x)=(-bo*x*x/2+x*(kb0L^2/2AE-b0L)/(1+kL/AE))1/AE\n",
    "\n",
    "G\n",
    "-grho(x-L)\n",
    "\n",
    "u(x)=(-bo*x*x/2+x*(kb0L^2/2AE-b0L-grho(x-L))/(1+kL/AE))1/AE\n",
    "\n",
    "H\n",
    "\n",
    "A=2b0/rhog\n",
    "\n",
    "AEu(x)=-bo*x*x/2+x*(kb0L^2/2AE-b0L-grho(x-L))/(1+kL/AE)\n",
    "\n",
    "x=L\n",
    "\n",
    "AEu(L)=-bo*L*L/2+L*(kb0L^2/2AE-b0L)/(1+kL/AE)\n",
    "F=-bo*L*L/2+L*(kb0L^2/2AE-b0L)/(1+kL/AE)\n"
   ]
  }
 ],
 "metadata": {
  "kernelspec": {
   "display_name": "Python 3",
   "language": "python",
   "name": "python3"
  },
  "language_info": {
   "codemirror_mode": {
    "name": "ipython",
    "version": 3
   },
   "file_extension": ".py",
   "mimetype": "text/x-python",
   "name": "python",
   "nbconvert_exporter": "python",
   "pygments_lexer": "ipython3",
   "version": "3.10.10"
  },
  "orig_nbformat": 4
 },
 "nbformat": 4,
 "nbformat_minor": 2
}
