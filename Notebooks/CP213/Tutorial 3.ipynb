{
  "cells": [
    {
      "cell_type": "markdown",
      "id": "041af982",
      "metadata": {
        "id": "041af982"
      },
      "source": [
        "# CP213: Tutorial Notebook 3"
      ]
    },
    {
      "cell_type": "markdown",
      "id": "voluntary-republic",
      "metadata": {
        "id": "voluntary-republic"
      },
      "source": [
        "## Question 1"
      ]
    },
    {
      "cell_type": "markdown",
      "id": "e3512ad9",
      "metadata": {
        "id": "e3512ad9"
      },
      "source": [
        "A brine solution (i.e. a mixture of salt and water) with a salt\n",
        "concentration of $0.1\\,{\\rm kg\\,L}^{-1}$ begins to flow at a constant\n",
        "rate of $6\\,{\\rm L\\,min}^{-1}$ into a large tank that initially holds\n",
        "$1000\\,{\\rm L}$ of pure water.  The solution inside the tank is kept\n",
        "well stirred and flows out of the tank at a rate of $6\\,{\\rm\n",
        "L\\,min}^{-1}$.  Determine the time at which the concentration of salt\n",
        "in the tank reaches $0.05\\,{\\rm kg\\,L}^{-1}$.\n",
        "\n",
        "Hint: ${\\rm rate~of~change} = {\\rm input~rate} - {\\rm output~rate}$.\n"
      ]
    },
    {
      "cell_type": "code",
      "execution_count": 4,
      "id": "22f0ef88",
      "metadata": {
        "id": "22f0ef88"
      },
      "outputs": [
        {
          "name": "stdout",
          "output_type": "stream",
          "text": [
            "The concentration of salt in the tank reaches 0.05 kg/L at 115.5 minutes.\n"
          ]
        }
      ],
      "source": [
        "import numpy as np\n",
        "from scipy.integrate import solve_ivp\n",
        "from scipy.interpolate import interp1d\n",
        "\n",
        "def salt_tank(t, y):\n",
        "    input_rate = 6  # L/min\n",
        "    output_rate = 6  # L/min\n",
        "    salt_in_rate = 0.1  # kg/L\n",
        "    tank_volume = 1000  # L\n",
        "\n",
        "    dydt = input_rate * salt_in_rate - output_rate * (y / tank_volume)\n",
        "    return dydt\n",
        "\n",
        "initial_salt = 0\n",
        "initial_time = 0\n",
        "final_time = 1000  # Large enough time in minutes\n",
        "y0 = [initial_salt]\n",
        "\n",
        "# Solve the differential equation with tighter tolerances\n",
        "sol = solve_ivp(salt_tank, (initial_time, final_time), y0, rtol=1e-12, atol=1e-12)\n",
        "\n",
        "target_concentration = 0.05  # kg/L\n",
        "target_salt_mass = target_concentration * 1000  # kg\n",
        "\n",
        "# Interpolate the solution to find the exact time when salt mass reaches the target\n",
        "interp_solution = interp1d(sol.y[0], sol.t)\n",
        "time_when_target_reached = interp_solution(target_salt_mass)\n",
        "\n",
        "print(f\"The concentration of salt in the tank reaches 0.05 kg/L at {time_when_target_reached:.1f} minutes.\")\n"
      ]
    },
    {
      "attachments": {},
      "cell_type": "markdown",
      "id": "44d9b570",
      "metadata": {
        "id": "44d9b570"
      },
      "source": [
        "## Question 2"
      ]
    },
    {
      "cell_type": "markdown",
      "id": "5c6751a6",
      "metadata": {
        "id": "5c6751a6"
      },
      "source": [
        "A brine solution (a mixture of salt and water) begins to flow at a\n",
        "constant rate of $\\dot{V}_{\\rm brine}=6\\,{\\rm L\\,min}^{-1}$ into a\n",
        "large tank that initially holds $V_0=1000\\,{\\rm L}$ of pure water.\n",
        "The solution inside the tank is kept well stirred and flows out of the\n",
        "tank at a constant rate of $\\dot{V}_{\\rm out}=5\\,{\\rm L\\,min}^{-1}$.\n",
        "If the concentration of salt in the brine entering the tank is\n",
        "$c_{\\rm brine}=0.1\\,{\\rm kg\\,L}^{-1}$, determine the concentration of\n",
        "the salt in the tank as a function of time.\n"
      ]
    },
    {
      "cell_type": "code",
      "execution_count": 7,
      "id": "4dad6ab4",
      "metadata": {
        "id": "4dad6ab4"
      },
      "outputs": [],
      "source": [
        "import sympy as smp\n",
        "\n",
        "# Define the symbols\n",
        "vbrine, v0, vout, cbrine, c = smp.symbols('v_brine v_0 v_out c_brine c')\n",
        "\n"
      ]
    },
    {
      "cell_type": "markdown",
      "id": "bec0d398",
      "metadata": {
        "id": "bec0d398"
      },
      "source": [
        "## Question 3"
      ]
    },
    {
      "cell_type": "markdown",
      "id": "6d3819ee",
      "metadata": {
        "id": "6d3819ee"
      },
      "source": [
        "Fluid flows through a pipe with a circular cross-section of radius\n",
        "$R$.\n",
        "1. Find an expression for the volumetric flow rate $Q$ through the\n",
        "  pipe if the fluid velocity within it is $v=const$.\n",
        "2. What is the volumetric flow rate $\\Delta Q$ through a circular\n",
        "  annulus of inner radius $r$ and outer radius $r+\\Delta r$ if the\n",
        "  velocity of the fluid within the annulus is $v=const$ ?\n",
        "  \n",
        "3. Find an expression for $Q$ for the case of laminar flow within\n",
        "  the pipe, where the velocity profile is given by\n",
        "\\begin{align*}\n",
        "v(r) &= \\frac{\\Delta p}{4\\mu L}(R^2-r^2)\n",
        "\\end{align*}\n",
        "where $v(r)$ is the velocity of the fluid at a distance $r$ from the\n",
        "center of the pipe, $\\Delta p$ is the pressure drop along the pipe,\n",
        "$L$ is the length of the pipe, and $\\mu$ is the dynamic viscosity of\n",
        "the fluid.  What is the mean velocity of the fluid in the pipe?\n",
        "\n",
        "4. Plot the velocity profile in the pipe for parts (1) and (3)."
      ]
    },
    {
      "cell_type": "code",
      "execution_count": 241,
      "id": "assigned-basement",
      "metadata": {
        "id": "assigned-basement"
      },
      "outputs": [
        {
          "data": {
            "text/latex": [
              "$\\displaystyle Q = \\pi R^{2} v$"
            ],
            "text/plain": [
              "Eq(Q, pi*R**2*v)"
            ]
          },
          "metadata": {},
          "output_type": "display_data"
        }
      ],
      "source": [
        "import sympy as smp\n",
        "\n",
        "Q, R, v, r,dr, pressure_drop, mu, L = smp.symbols('Q,R,v,r,dr,\\Delta{p}, \\mu, L')\n",
        "\n",
        "ans1 = smp.Eq(Q, smp.pi*R**2*v)\n",
        "display(ans1)"
      ]
    },
    {
      "cell_type": "code",
      "execution_count": 250,
      "id": "e83d2c47",
      "metadata": {},
      "outputs": [
        {
          "data": {
            "text/latex": [
              "$\\displaystyle \\frac{\\pi R^{4} \\Delta{p}}{8 L \\mu}$"
            ],
            "text/plain": [
              "pi*R**4*\\Delta{p}/(8*L*\\mu)"
            ]
          },
          "execution_count": 250,
          "metadata": {},
          "output_type": "execute_result"
        }
      ],
      "source": [
        "dq = 2*smp.pi*r*v*r.diff()\n",
        "q = smp.integrate(dq.subs(v, pressure_drop*(R**2 - r**2) / (4*mu*L)), (r,0,R))\n",
        "q"
      ]
    },
    {
      "cell_type": "code",
      "execution_count": 266,
      "id": "f339017d",
      "metadata": {},
      "outputs": [
        {
          "data": {
            "image/png": "[encoded data removed]",
            "text/plain": [
              "<Figure size 640x480 with 1 Axes>"
            ]
          },
          "metadata": {},
          "output_type": "display_data"
        }
      ],
      "source": [
        "import matplotlib.pylab as plt\n",
        "\n",
        "pressure_drop = 1 \n",
        "mu = 1\n",
        "L = 1\n",
        "\n",
        "def v(R,r):\n",
        "    return pressure_drop*(R**2 - r**2) / (4*mu*L)\n",
        "\n",
        "R = np.ones(1000)\n",
        "rlist = np.linspace(0,1,1000)\n",
        "\n",
        "vs = [v(i,j) for i,j in zip(R,rlist)]\n",
        "\n",
        "plt.plot(rlist, vs)\n",
        "plt.xlabel('distance from center')\n",
        "plt.ylabel('velocity')\n",
        "plt.show()"
      ]
    },
    {
      "cell_type": "markdown",
      "id": "fitting-settle",
      "metadata": {
        "id": "fitting-settle"
      },
      "source": [
        "## Question 4"
      ]
    },
    {
      "cell_type": "markdown",
      "id": "antique-appreciation",
      "metadata": {
        "id": "antique-appreciation"
      },
      "source": [
        "Evaluate the following integrals analytically (possibly with help from an integral table) and using sympy:\n",
        "\n",
        "1. $\\displaystyle\n",
        "\\int \\frac{dx}{x^2 + 16}  \n",
        "$\n",
        "\n",
        "2. $\\displaystyle\n",
        "\\int \\frac{dx}{x^2 - 16}  \n",
        "$\n",
        "\n",
        "3. $\\displaystyle\n",
        "\\int \\frac{dx}{x^2 + 5x}  \n",
        "$\n",
        "\n",
        "4. $\\displaystyle\n",
        "\\int dx\\,\\frac{(2x+1)}{(x+1)(x+2)}  \n",
        "$\n",
        "\n",
        "5. $\\displaystyle\n",
        "\\int dx\\,\\frac{x^2}{x + 7}  \n",
        "$\n",
        "\n",
        "6. $\\displaystyle\n",
        "\\int dx\\,x\\sqrt{3x+4}\n",
        "$\n",
        "\n",
        "7. $\\displaystyle\n",
        "\\int dx\\,\\frac{x}{\\sqrt{3x+4}}\n",
        "$"
      ]
    },
    {
      "cell_type": "code",
      "execution_count": 10,
      "id": "enhanced-vanilla",
      "metadata": {
        "id": "enhanced-vanilla"
      },
      "outputs": [
        {
          "data": {
            "text/latex": [
              "$\\displaystyle \\frac{\\operatorname{atan}{\\left(\\frac{x}{4} \\right)}}{4}$"
            ],
            "text/plain": [
              "atan(x/4)/4"
            ]
          },
          "metadata": {},
          "output_type": "display_data"
        }
      ],
      "source": [
        "import sympy as smp\n",
        "\n",
        "x = smp.symbols('x')\n",
        "\n",
        "int1 = smp.integrate((1/ (x**2 + 16)))\n",
        "\n",
        "display(int1)"
      ]
    }
  ],
  "metadata": {
    "colab": {
      "provenance": []
    },
    "kernelspec": {
      "display_name": "Python 3",
      "language": "python",
      "name": "python3"
    },
    "language_info": {
      "codemirror_mode": {
        "name": "ipython",
        "version": 3
      },
      "file_extension": ".py",
      "mimetype": "text/x-python",
      "name": "python",
      "nbconvert_exporter": "python",
      "pygments_lexer": "ipython3",
      "version": "3.10.6"
    }
  },
  "nbformat": 4,
  "nbformat_minor": 5
}
