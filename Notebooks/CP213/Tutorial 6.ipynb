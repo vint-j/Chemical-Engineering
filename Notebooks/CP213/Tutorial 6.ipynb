{
  "cells": [
    {
      "cell_type": "markdown",
      "metadata": {
        "id": "XzYHLyZY8U6w"
      },
      "source": [
        "# CP213: Tutorial Notebook S2 Week 6"
      ]
    },
    {
      "cell_type": "markdown",
      "metadata": {
        "id": "cxD77ZVF8U63"
      },
      "source": [
        "## Question 1\n",
        "Derive the Maclaurin series expansion for $\\ln{(1+x)}$ and hence evaluate\n",
        "\n",
        "\\begin{align*}\n",
        "    \\lim_{x\\to 0} \\frac{x - \\ln{(x+1)}}{x^2}.\n",
        "\\end{align*}"
      ]
    },
    {
      "cell_type": "code",
      "execution_count": null,
      "metadata": {
        "id": "xbGLTlCu8U64",
        "outputId": "7745b19f-8f64-443f-8763-e0e9c9e17963",
        "colab": {
          "base_uri": "https://localhost:8080/",
          "height": 54
        }
      },
      "outputs": [
        {
          "output_type": "display_data",
          "data": {
            "text/plain": [
              "x**9/9 - x**8/8 + x**7/7 - x**6/6 + x**5/5 - x**4/4 + x**3/3 - x**2/2 + x"
            ],
            "text/latex": "$\\displaystyle \\frac{x^{9}}{9} - \\frac{x^{8}}{8} + \\frac{x^{7}}{7} - \\frac{x^{6}}{6} + \\frac{x^{5}}{5} - \\frac{x^{4}}{4} + \\frac{x^{3}}{3} - \\frac{x^{2}}{2} + x$"
          },
          "metadata": {}
        }
      ],
      "source": [
        "import sympy as sp\n",
        "x = sp.symbols('x')\n",
        "func = (sp.ln(1+x))\n",
        "n = 10\n",
        "taylor_expansion = sp.series(func, x, 0, n).removeO()\n",
        "display(taylor_expansion)\n"
      ]
    },
    {
      "cell_type": "code",
      "source": [
        "func2 = (x-taylor_expansion)/(x*x)\n",
        "display(func2.simplify())"
      ],
      "metadata": {
        "id": "3-UR4f1l9V0K",
        "outputId": "e557478c-7080-41aa-879a-1c462d1dd410",
        "colab": {
          "base_uri": "https://localhost:8080/",
          "height": 54
        }
      },
      "execution_count": null,
      "outputs": [
        {
          "output_type": "display_data",
          "data": {
            "text/plain": [
              "-x**7/9 + x**6/8 - x**5/7 + x**4/6 - x**3/5 + x**2/4 - x/3 + 1/2"
            ],
            "text/latex": "$\\displaystyle - \\frac{x^{7}}{9} + \\frac{x^{6}}{8} - \\frac{x^{5}}{7} + \\frac{x^{4}}{6} - \\frac{x^{3}}{5} + \\frac{x^{2}}{4} - \\frac{x}{3} + \\frac{1}{2}$"
          },
          "metadata": {}
        }
      ]
    },
    {
      "cell_type": "code",
      "source": [
        "sp.limit(func2,x,0)"
      ],
      "metadata": {
        "id": "D3Y-Vn36CA2-",
        "outputId": "603ad9db-bfb9-4564-f2e6-8d95d614273c",
        "colab": {
          "base_uri": "https://localhost:8080/",
          "height": 51
        }
      },
      "execution_count": null,
      "outputs": [
        {
          "output_type": "execute_result",
          "data": {
            "text/plain": [
              "1/2"
            ],
            "text/latex": "$\\displaystyle \\frac{1}{2}$"
          },
          "metadata": {},
          "execution_count": 13
        }
      ]
    },
    {
      "cell_type": "markdown",
      "metadata": {
        "id": "lUFQM2n_8U65"
      },
      "source": [
        "## Question 2\n",
        "Determine the taylor polynomial of $f(x)=\\sqrt[3]{x^2}$ centred at $a=1$ up to the third order term. Hence, approximate the value $=\\sqrt[3]{(1.2)^2}$ and the associated maximum error."
      ]
    },
    {
      "cell_type": "code",
      "source": [
        "x = sp.symbols('x')\n",
        "f=sp.cbrt(x**2)\n",
        "n = 3\n",
        "taylor_expansion = sp.series(f, x, 1, n).removeO()\n",
        "display(taylor_expansion.simplify())\n"
      ],
      "metadata": {
        "id": "GauW8XNR_oXP",
        "outputId": "618a16c1-66ce-4b57-85bd-71b547f9e92b",
        "colab": {
          "base_uri": "https://localhost:8080/",
          "height": 54
        }
      },
      "execution_count": null,
      "outputs": [
        {
          "output_type": "display_data",
          "data": {
            "text/plain": [
              "-x**2/9 + 8*x/9 + 2/9"
            ],
            "text/latex": "$\\displaystyle - \\frac{x^{2}}{9} + \\frac{8 x}{9} + \\frac{2}{9}$"
          },
          "metadata": {}
        }
      ]
    },
    {
      "cell_type": "code",
      "source": [
        "\n",
        "x0 = 1.2\n",
        "a = 1\n",
        "approx = taylor_expansion.subs(x, x0).evalf()\n",
        "M = f.diff(x,x,x,x).simplify().subs(x,a)\n",
        "max_error = abs(M/(sp.factorial(4))*(x0-a)**4)\n",
        "\n",
        "print(\"The Taylor polynomial of f(x) up to the third order is:\", sp.simplify(taylor_expansion))\n",
        "print(\"The approximation of cbrt((1.2)**2) is:\", approx)\n",
        "print(\"The associated maximum error is:\", max_error.evalf())\n",
        "print(\"Value of M\",M)"
      ],
      "metadata": {
        "id": "PlfU6ppEJmC6",
        "outputId": "d7cf58ba-063a-49ee-9bab-a38c8777ce5b",
        "colab": {
          "base_uri": "https://localhost:8080/"
        }
      },
      "execution_count": null,
      "outputs": [
        {
          "output_type": "stream",
          "name": "stdout",
          "text": [
            "The Taylor polynomial of f(x) up to the third order is: -x**2/9 + 8*x/9 + 2/9\n",
            "The approximation of cbrt((1.2)**2) is: 1.12888888888889\n",
            "The associated maximum error is: 4.60905349794238e-5\n",
            "Value of M -56/81\n"
          ]
        }
      ]
    },
    {
      "cell_type": "markdown",
      "metadata": {
        "id": "7xUmKC3P8U66"
      },
      "source": [
        "## Question 3\n",
        "Find the mass of a laminate with surface density given by $\\rho = \\sqrt{x}$ that is bounded by $x=y^2$ and $y=x^2$."
      ]
    },
    {
      "cell_type": "code",
      "execution_count": null,
      "metadata": {
        "id": "yRwAPJjf8U66",
        "outputId": "904797e3-e59a-4400-a8a7-7b2282c6371f",
        "colab": {
          "base_uri": "https://localhost:8080/",
          "height": 37
        }
      },
      "outputs": [
        {
          "output_type": "execute_result",
          "data": {
            "text/plain": [
              "0.214285714285714"
            ],
            "text/latex": "$\\displaystyle 0.214285714285714$"
          },
          "metadata": {},
          "execution_count": 42
        }
      ],
      "source": [
        "y=sp.symbols('y')\n",
        "mass = sp.integrate(x**0.5,(y,x**2,x**0.5),(x,0,1))\n",
        "mass"
      ]
    },
    {
      "cell_type": "markdown",
      "metadata": {
        "id": "iCAhO_lZ8U67"
      },
      "source": [
        "## Question 4\n",
        "A company specialising in $350 \\ \\rm{ml}$ cans for soft-drinks wishes to explore whether alternative dimensions to reduce material usage. Determine the dimensions of cans that would minimise material usage, stating any assumptions you have made. Is there a difference between the calculated dimensions and the current standard?"
      ]
    },
    {
      "cell_type": "code",
      "source": [
        "import sympy as sp\n",
        "r = sp.symbols('r',real=True)\n",
        "V=0.350\n",
        "height = V/sp.pi*r*r\n",
        "SA=height*sp.pi*2*r+(sp.pi*r*r*2)\n",
        "sadiff = SA.diff(r)\n",
        "\n",
        "display(sadiff.factor())\n",
        "sadiff2 = SA.diff(r,r)\n",
        "sadiff2 \n",
        "rval = sp.solve(sadiff,r)\n",
        "\n",
        "h=height.subs(r,rval[0])\n",
        "(SA.subs(r,rval[0]).subs(height,h))"
      ],
      "metadata": {
        "colab": {
          "base_uri": "https://localhost:8080/",
          "height": 60
        },
        "id": "EGsSm52Q0gUS",
        "outputId": "130c3c98-5495-4057-aede-a1012c1d6f7e"
      },
      "execution_count": null,
      "outputs": [
        {
          "output_type": "display_data",
          "data": {
            "text/plain": [
              "4.0*r*(0.525*r + 1.0*pi)"
            ],
            "text/latex": "$\\displaystyle 4.0 r \\left(0.525 r + 1.0 \\pi\\right)$"
          },
          "metadata": {}
        },
        {
          "output_type": "execute_result",
          "data": {
            "text/plain": [
              "-149.992570486711 + 71.6161770600588*pi"
            ],
            "text/latex": "$\\displaystyle -149.992570486711 + 71.6161770600588 \\pi$"
          },
          "metadata": {},
          "execution_count": 19
        }
      ]
    }
  ],
  "metadata": {
    "kernelspec": {
      "display_name": "Python 3",
      "language": "python",
      "name": "python3"
    },
    "language_info": {
      "codemirror_mode": {
        "name": "ipython",
        "version": 3
      },
      "file_extension": ".py",
      "mimetype": "text/x-python",
      "name": "python",
      "nbconvert_exporter": "python",
      "pygments_lexer": "ipython3",
      "version": "3.8.5"
    },
    "colab": {
      "provenance": []
    }
  },
  "nbformat": 4,
  "nbformat_minor": 0
}