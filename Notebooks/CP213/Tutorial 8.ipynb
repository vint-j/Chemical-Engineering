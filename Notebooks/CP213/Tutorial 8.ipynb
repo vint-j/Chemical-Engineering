{
  "cells": [
    {
      "cell_type": "markdown",
      "metadata": {
        "id": "XkzcAJ9UbvD6"
      },
      "source": [
        "# CP213: Tutorial Notebook S2 Tutorial 8\n",
        "## Question 1\n",
        "To meet regulations, biodiesel must contain less than $1\\%$ impurity by weight. Pure water is used to extract these impurities in a continuous liquid-liquid extraction column. The basic flow diagram is provided with weight percentage composition of each stream.\n",
        "\n",
        "<img src=\"https://github.com/mjksill/CP213-online/blob/master/tutorials/extractor.png?raw=1\" width=\"800\">\n",
        "\n",
        "1. Perform material balances around the extractor. How many balances are required to solve for $F,E \\text{ and } P$?\n",
        "2. Represent your material balances in matrix form: $\\mathbf{A\\cdot X}=\\mathbf{B}$\n",
        "3. Find the inverse matrix $\\mathbf{A^{-1}}$ by EROs OR the adjugate matrix\n",
        "4. Hence solve for $\\mathbf{X}$"
      ]
    },
    {
      "cell_type": "code",
      "source": [
        "import sympy as sp\n",
        "F , P , E = sp.symbols(' F P E')\n",
        "A=sp.Matrix([[1,1,-1],[0.091,0.98178,0],[0.9,0.002,-0.95]])\n",
        "B=sp.Matrix([306,306,0])\n",
        "A.inv()*B"
      ],
      "metadata": {
        "colab": {
          "base_uri": "https://localhost:8080/",
          "height": 78
        },
        "id": "lErRRZUVE8YG",
        "outputId": "a04629a8-9a94-486c-c0ef-983f55602223"
      },
      "execution_count": null,
      "outputs": [
        {
          "output_type": "execute_result",
          "data": {
            "text/plain": [
              "Matrix([\n",
              "[125.999999999999],\n",
              "[           300.0],\n",
              "[           120.0]])"
            ],
            "text/latex": "$\\displaystyle \\left[\\begin{matrix}125.999999999999\\\\300.0\\\\120.0\\end{matrix}\\right]$"
          },
          "metadata": {},
          "execution_count": 2
        }
      ]
    },
    {
      "cell_type": "markdown",
      "metadata": {
        "id": "xGWPI9xQbvD9"
      },
      "source": [
        "## Question 2\n",
        "Repeat Question 1, now using python to obtain the inverse matrix and solve the system of equations. Remember, it is okay (in fact it is encouraged) to search online and adapt code."
      ]
    },
    {
      "cell_type": "code",
      "execution_count": null,
      "metadata": {
        "id": "Ytgf6U7_bvD-"
      },
      "outputs": [],
      "source": []
    },
    {
      "cell_type": "markdown",
      "metadata": {
        "id": "PYMqdJqgbvD_"
      },
      "source": [
        "## Question 3\n",
        "\n",
        "Determine the eigenvalues and eigenvectors of the following matrices and then verify using some python (again, do search the internet for some code).\n",
        "\n",
        "1. $\\boldsymbol{A} =\\begin{pmatrix} 5 & 4\\\\ 1 & 2 \\end{pmatrix}$\n",
        "2. $\\boldsymbol{B} =\\begin{pmatrix}-0.25 & 0.5\\\\0.25&-0.5\\end{pmatrix}$ \n",
        "\n",
        "(nb: this is the matrix from the tank-recycle question in tutorial 7)\n",
        "\n",
        "3. $\\boldsymbol{C} =\\begin{pmatrix} -1 & 0 & 2\\\\ 0 & 2 & 0\\\\ -4 & 0 & 5 \\end{pmatrix}$"
      ]
    },
    {
      "cell_type": "code",
      "execution_count": null,
      "metadata": {
        "id": "YHNhQo1obvD_",
        "colab": {
          "base_uri": "https://localhost:8080/"
        },
        "outputId": "2158622a-9792-4d40-f27b-35f0b4f4c6e1"
      },
      "outputs": [
        {
          "output_type": "stream",
          "name": "stdout",
          "text": [
            "⎡⎛      ⎡⎡-1⎤⎤⎞  ⎛      ⎡⎡4⎤⎤⎞⎤\n",
            "⎢⎜1, 1, ⎢⎢  ⎥⎥⎟, ⎜6, 1, ⎢⎢ ⎥⎥⎟⎥\n",
            "⎣⎝      ⎣⎣1 ⎦⎦⎠  ⎝      ⎣⎣1⎦⎦⎠⎦\n",
            "Eigenvalues\n",
            "[6. 1.]\n",
            "Eigenvectors\n",
            "[[ 0.9701425  -0.70710678]\n",
            " [ 0.24253563  0.70710678]]\n"
          ]
        }
      ],
      "source": [
        "import sympy as sp\n",
        "import numpy as np\n",
        "\n",
        "A=sp.Matrix([[5,4],[1,2]])\n",
        "sp.pprint(A.eigenvects())\n",
        "eigenvalues, eigenvectors = np.linalg.eig(np.array([[5,4],[1,2]]))\n",
        "print(\"Eigenvalues\")\n",
        "print(eigenvalues)\n",
        "print(\"Eigenvectors\")\n",
        "print(eigenvectors)\n",
        "\n",
        "\n"
      ]
    },
    {
      "cell_type": "code",
      "execution_count": null,
      "metadata": {
        "id": "NdkRsb7dbvD_",
        "colab": {
          "base_uri": "https://localhost:8080/"
        },
        "outputId": "dba6f574-a4ba-4362-894e-d98a49f5536a"
      },
      "outputs": [
        {
          "output_type": "stream",
          "name": "stdout",
          "text": [
            "⎡⎛      ⎡⎡0.894427190999916⎤⎤⎞  ⎛          ⎡⎡-0.74535599249993⎤⎤⎞⎤\n",
            "⎢⎜0, 1, ⎢⎢                 ⎥⎥⎟, ⎜-0.75, 1, ⎢⎢                 ⎥⎥⎟⎥\n",
            "⎣⎝      ⎣⎣0.447213595499958⎦⎦⎠  ⎝          ⎣⎣0.74535599249993 ⎦⎦⎠⎦\n",
            "Eigenvalues\n",
            "[ 0.   -0.75]\n",
            "Eigenvectors\n",
            "[[ 0.89442719 -0.70710678]\n",
            " [ 0.4472136   0.70710678]]\n"
          ]
        }
      ],
      "source": [
        "B=sp.Matrix([[-0.25,0.5],[0.25,-0.5]])\n",
        "sp.pprint(B.eigenvects())\n",
        "eigenvalues, eigenvectors = np.linalg.eig([[-0.25,0.5],[0.25,-0.5]])\n",
        "print(\"Eigenvalues\")\n",
        "print(eigenvalues)\n",
        "print(\"Eigenvectors\")\n",
        "print(eigenvectors)\n"
      ]
    },
    {
      "cell_type": "code",
      "execution_count": null,
      "metadata": {
        "id": "wO15X6PlbvD_",
        "colab": {
          "base_uri": "https://localhost:8080/"
        },
        "outputId": "2999dc03-ad43-4bcf-ab42-64a78a321da9"
      },
      "outputs": [
        {
          "output_type": "stream",
          "name": "stdout",
          "text": [
            "⎡⎛      ⎡⎡1⎤⎤⎞  ⎛      ⎡⎡0⎤⎤⎞  ⎛      ⎡⎡1/2⎤⎤⎞⎤\n",
            "⎢⎜      ⎢⎢ ⎥⎥⎟  ⎜      ⎢⎢ ⎥⎥⎟  ⎜      ⎢⎢   ⎥⎥⎟⎥\n",
            "⎢⎜1, 1, ⎢⎢0⎥⎥⎟, ⎜2, 1, ⎢⎢1⎥⎥⎟, ⎜3, 1, ⎢⎢ 0 ⎥⎥⎟⎥\n",
            "⎢⎜      ⎢⎢ ⎥⎥⎟  ⎜      ⎢⎢ ⎥⎥⎟  ⎜      ⎢⎢   ⎥⎥⎟⎥\n",
            "⎣⎝      ⎣⎣1⎦⎦⎠  ⎝      ⎣⎣0⎦⎦⎠  ⎝      ⎣⎣ 1 ⎦⎦⎠⎦\n",
            "Eigenvalues\n",
            "[1. 3. 2.]\n",
            "Eigenvectors\n",
            "[[-0.70710678 -0.4472136   0.        ]\n",
            " [ 0.          0.          1.        ]\n",
            " [-0.70710678 -0.89442719  0.        ]]\n"
          ]
        }
      ],
      "source": [
        "import sympy as sp\n",
        "import numpy as np\n",
        "C = sp.Matrix([[-1,0,2], [0,2,0],[-4,0,5]])\n",
        "sp.pprint(C.eigenvects())\n",
        "eigenvalues, eigenvectors = np.linalg.eig([[-1,0,2], [0,2,0],[-4,0,5]])\n",
        "print(\"Eigenvalues\")\n",
        "print(eigenvalues)\n",
        "print(\"Eigenvectors\")\n",
        "print(eigenvectors)"
      ]
    },
    {
      "cell_type": "markdown",
      "metadata": {
        "id": "_qNvY7srbvEA"
      },
      "source": [
        "## Question 4\n",
        "\n",
        "Consider a system of $N$ tanks that are connected in series, as shown\n",
        "in the figure below.  Each tank initially contains $V=1\\,{\\rm m}^3$ of\n",
        "water, which is fully mixed, and has two inlet streams and two outlet\n",
        "streams.  Water at temperature $T_{R, {\\rm in}}$ enters tank 1 at a\n",
        "volumetric flow rate $\\dot{V}_{R,{\\rm in}}$, and water at temperature\n",
        "$T_{L, {\\rm in}}$ enters tank 1 at a volumetric flow rate\n",
        "$\\dot{V}_{L,{\\rm in}}$.\n",
        "\n",
        "<img src=\"https://github.com/mjksill/CP213-online/blob/master/tutorials/tank-series.png?raw=1\" width=\"800\">\n",
        "\n",
        "For the questions below, you can consider that the flows are such that\n",
        "the liquid volume in each of the tanks remains constant.  Assume that water has a density $\\rho=1000\\,{\\rm kg\\, m^{-3}}$ and heat capacity\n",
        "$C=4.2\\,{\\rm kJ\\,kg}^{-1}$.\n",
        "\n",
        "1. Perform a differential energy balance around the first tank\n",
        "   (i.e. tank 1), the final tank (i.e. tank $N$), and an intermediate\n",
        "   tank tank $k$, where $1<k<N$, to develop the differential equations\n",
        "   that govern the temperature of the water in each of the tanks.\n",
        "\n",
        "\n",
        " \n",
        "\n",
        "\n",
        "\n"
      ]
    },
    {
      "cell_type": "code",
      "execution_count": null,
      "metadata": {
        "id": "AVGfK9DWbvEB",
        "colab": {
          "base_uri": "https://localhost:8080/",
          "height": 57
        },
        "outputId": "1a642f03-fa4d-4e46-afd3-30a4675ae5a4"
      },
      "outputs": [
        {
          "output_type": "execute_result",
          "data": {
            "text/plain": [
              "Eq(T(t), (TLin*VdotL + TRin*VdotR + exp((C1 - t)*(VdotL + VdotR)))/(VdotL + VdotR))"
            ],
            "text/latex": "$\\displaystyle T{\\left(t \\right)} = \\frac{TLin VdotL + TRin VdotR + e^{\\left(C_{1} - t\\right) \\left(VdotL + VdotR\\right)}}{VdotL + VdotR}$"
          },
          "metadata": {},
          "execution_count": 20
        }
      ],
      "source": [
        "import sympy as sp \n",
        "t,k,V,TLin, TRin,VdotL,VdotR = sp.symbols('t k V TLin TRin VdotL VdotR')\n",
        "p,c = 1000,4200\n",
        "T = sp.Function('T')(t)\n",
        "\n",
        "\n",
        "\n",
        "\n"
      ]
    },
    {
      "cell_type": "markdown",
      "source": [
        "2. Write the differential equations obtained above in matrix form for the case of 3 tanks and for the case of 5 tanks.  That is:\n",
        "\\begin{align*}\n",
        "\\frac{d}{dt} \\vec{T} &= {\\bf A}\\cdot\\vec{T} + \\vec{b}\n",
        "\\end{align*}\n",
        "where $\\vec{T}$ is the vector of $N$ temperatures, ${\\bf A}$ is an $N\\times N$ matrix, and $\\vec{b}$ is an $N$ dimensional vector of \"constants\".\n",
        "\n",
        "3. Consider the case where $\\dot{V}_{R,{\\rm in}}=\\dot{V}_{R,{\\rm out}}=0.1\\,{\\rm m^3\\,s^{-1}}$, $\\dot{V}_{L,{\\rm in}}=\\dot{V}_{L,{\\rm out}}=0$, $\\dot{v}_R=0.2\\,{\\rm m^3\\,s^{-1}}$, and $\\dot{v}_L=0.1\\,{\\rm m^3\\,s^{-1}}$.  In the case of 5 tanks, determine the eigenvalues and corresponding eigenvectors of the matrix that appears in the energy balance.  If the initial temperature of tank 3 is $80^\\circ{\\rm C}$ and the initial temperature of the other tanks is $10^\\circ{\\rm C}$, determine the steady state temperatures of each of the tanks.\n",
        "\n",
        "4. Consider the case where $\\dot{V}_{R,{\\rm in}}=\\dot{V}_{L,{\\rm in}}=\\dot{V}_{R,{\\rm out}}=\\dot{V}_{L,{\\rm out}}=0.1\\,{\\rm m^3\\,s^{-1}}$, $\\dot{v}_R=\\dot{v}_L=0.1\\,{\\rm m^3\\,s^{-1}}$, $T_{R,{\\rm in}}=80^\\circ{\\rm C}$, and $T_{L,{\\rm in}}=10^\\circ{\\rm C}$.  In the case of 5 tanks, determine the eigenvalues and corresponding eigenvectors of the matrix that appears in the energy balance.  If the initial temperature of the water in all of the tanks is $60^\\circ{\\rm C}$, what is the temperature in each tank at steady state? \n",
        "\n",
        "5. Consider the case where $\\dot{V}_{R,{\\rm in}}=\\dot{V}_{L,{\\rm in}}=\\dot{V}_{R,{\\rm out}}=\\dot{V}_{L,{\\rm out}}=0$ and $\\dot{v}_R=\\dot{v}_L=0.1\\,{\\rm m^3\\,s^{-1}}$.  In the case of 5 tanks, determine the eigenvalues and corresponding eigenvectors of the matrix that appears in the energy balance.  If the initial temperature of tank 3 is $80^\\circ{\\rm C}$ and the initial temperature of the other tanks is $10^\\circ{\\rm C}$, determine the steady state temperatures of each of the tanks.   Note that the matrix is singular.  What does this mean in terms of the steady state solution?  Hint: Think about the case where the initial temperature of the tanks are changed."
      ],
      "metadata": {
        "id": "epDm1m2pLbiq"
      }
    },
    {
      "cell_type": "code",
      "execution_count": null,
      "metadata": {
        "id": "Uzm3KF0KbvEB"
      },
      "outputs": [],
      "source": []
    },
    {
      "cell_type": "code",
      "execution_count": null,
      "metadata": {
        "id": "astsb4JDbvEB"
      },
      "outputs": [],
      "source": []
    }
  ],
  "metadata": {
    "kernelspec": {
      "display_name": "Python 3",
      "language": "python",
      "name": "python3"
    },
    "language_info": {
      "codemirror_mode": {
        "name": "ipython",
        "version": 3
      },
      "file_extension": ".py",
      "mimetype": "text/x-python",
      "name": "python",
      "nbconvert_exporter": "python",
      "pygments_lexer": "ipython3",
      "version": "3.9.1"
    },
    "colab": {
      "provenance": []
    }
  },
  "nbformat": 4,
  "nbformat_minor": 0
}