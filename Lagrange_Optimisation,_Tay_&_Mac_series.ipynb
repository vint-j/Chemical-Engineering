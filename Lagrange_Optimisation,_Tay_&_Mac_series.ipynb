{
  "nbformat": 4,
  "nbformat_minor": 0,
  "metadata": {
    "colab": {
      "provenance": []
    },
    "kernelspec": {
      "name": "python3",
      "display_name": "Python 3"
    },
    "language_info": {
      "name": "python"
    }
  },
  "cells": [
    {
      "cell_type": "markdown",
      "source": [
        "Lagrange code"
      ],
      "metadata": {
        "id": "VtNE6AIKBD_b"
      }
    },
    {
      "cell_type": "markdown",
      "source": [
        "2021"
      ],
      "metadata": {
        "id": "SUiwMMXJBNAP"
      }
    },
    {
      "cell_type": "code",
      "source": [
        "#Initial Optimisation using scipy\n",
        "\n",
        "import numpy as np\n",
        "from scipy.optimize import minimize\n",
        "\n",
        "def optimize(area):\n",
        "    cons = ({'type': 'eq', 'fun' : lambda x: area - x[0]*x[1]-0.25*(x[0]**2)*np.sin(x[2])})\n",
        "    bnds = ((0, None), (0, None), (0, 2*np.pi))\n",
        "    f = lambda x: -(0.125*(x[0]**2)*x[1]*np.sin(x[2]))\n",
        "    res = minimize(f, (2,2,np.pi/4), bounds=bnds, constraints=cons)\n",
        "    return res\n",
        "\n",
        "# Call the optimize function to perform the optimization with a surface area of 10\n",
        "res = optimize(10)\n",
        "\n",
        "# Print the optimized values of the decision variables\n",
        "print(\"Optimized values: \", res.x)"
      ],
      "metadata": {
        "colab": {
          "base_uri": "https://localhost:8080/"
        },
        "id": "Z2PJk3omCY5b",
        "outputId": "63309f80-ada2-4e0d-909a-fb553229d6be"
      },
      "execution_count": 2,
      "outputs": [
        {
          "output_type": "stream",
          "name": "stdout",
          "text": [
            "Optimized values:  [3.65146587 1.82575963 1.57076217]\n"
          ]
        }
      ]
    },
    {
      "cell_type": "code",
      "source": [
        "#Partial Derivatives displayed\n",
        "\n",
        "import sympy as sp\n",
        "\n",
        "a,b,t,l=sp.symbols('a b theta lambda')\n",
        "\n",
        "f=0.125*a**2*b*sp.sin(t)\n",
        "g=a*b+0.25*a**2*sp.sin(t)-10\n",
        "\n",
        "x,y,z=f.diff(a)-l*g.diff(a),f.diff(b)-l*g.diff(b),f.diff(t)-l*g.diff(t)\n",
        "display(x,y,z)"
      ],
      "metadata": {
        "colab": {
          "base_uri": "https://localhost:8080/",
          "height": 82
        },
        "id": "KT4TtICABKX9",
        "outputId": "4aaa248e-dabe-4b73-fee3-2a1aa00b0cd5"
      },
      "execution_count": 3,
      "outputs": [
        {
          "output_type": "display_data",
          "data": {
            "text/plain": [
              "0.25*a*b*sin(theta) - lambda*(0.5*a*sin(theta) + b)"
            ],
            "text/latex": "$\\displaystyle 0.25 a b \\sin{\\left(\\theta \\right)} - \\lambda \\left(0.5 a \\sin{\\left(\\theta \\right)} + b\\right)$"
          },
          "metadata": {}
        },
        {
          "output_type": "display_data",
          "data": {
            "text/plain": [
              "0.125*a**2*sin(theta) - a*lambda"
            ],
            "text/latex": "$\\displaystyle 0.125 a^{2} \\sin{\\left(\\theta \\right)} - a \\lambda$"
          },
          "metadata": {}
        },
        {
          "output_type": "display_data",
          "data": {
            "text/plain": [
              "0.125*a**2*b*cos(theta) - 0.25*a**2*lambda*cos(theta)"
            ],
            "text/latex": "$\\displaystyle 0.125 a^{2} b \\cos{\\left(\\theta \\right)} - 0.25 a^{2} \\lambda \\cos{\\left(\\theta \\right)}$"
          },
          "metadata": {}
        }
      ]
    },
    {
      "cell_type": "code",
      "source": [
        "#Second optimisation using fsolve to confirm values\n",
        "\n",
        "import numpy as np\n",
        "import scipy as sp\n",
        "from scipy.optimize import fsolve\n",
        "\n",
        "# Define the objective function and constraint function\n",
        "def f(a, b, t):\n",
        "    return 0.125 * a**2 * b * np.sin(t)\n",
        "\n",
        "def g(a, b, t):\n",
        "    return a * b + 0.25 * a**2 * np.sin(t) - 10\n",
        "\n",
        "# Define the Lagrangian function\n",
        "def L(a, b, t, lambda_):\n",
        "    return f(a, b, t) - lambda_ * g(a, b, t)\n",
        "\n",
        "# Define the system of equations to be solved\n",
        "def equations(variables):\n",
        "    a, b, t, lambda_ = variables\n",
        "    eq1 = (0.25 * a * b * np.sin(t)) - lambda_ * (0.5* a * np.sin(t) + b)\n",
        "    eq2 = (0.125 * a**2 * np.sin(t)) - a * lambda_\n",
        "    eq3 = (0.125 * (a**2) * b * np.cos(t)) - 0.25 * (a**2)* lambda_ * np.cos(t)\n",
        "    eq4 = 10 - 0.25*a**2*np.sin(t) - a*b\n",
        "    return [eq1, eq2, eq3, eq4]\n",
        "\n",
        "# Solve the system of equations using fsolve\n",
        "solution = fsolve(equations, [3, 1, np.pi, 2])\n",
        "a, b, t, lambda_ = solution\n",
        "\n",
        "# Print the solution\n",
        "print(\"a =\", a)\n",
        "print(\"b =\", b)\n",
        "print(\"t =\", t)\n",
        "print(\"lambda =\", lambda_)"
      ],
      "metadata": {
        "colab": {
          "base_uri": "https://localhost:8080/"
        },
        "id": "MoiCHMt1C0XR",
        "outputId": "1d6e55c7-8823-484d-a7fc-7d7a857f5156"
      },
      "execution_count": 4,
      "outputs": [
        {
          "output_type": "stream",
          "name": "stdout",
          "text": [
            "a = 3.651483716700292\n",
            "b = 1.8257418583512544\n",
            "t = 1.5707963267938907\n",
            "lambda = 0.45643546458770295\n"
          ]
        }
      ]
    },
    {
      "cell_type": "markdown",
      "source": [
        "2022"
      ],
      "metadata": {
        "id": "6uJRYh_8C_rL"
      }
    },
    {
      "cell_type": "code",
      "source": [
        "#Initial Optimisation to determine guess values\n",
        "\n",
        "import numpy as np\n",
        "from scipy.optimize import minimize\n",
        "\n",
        "def optimize(area):\n",
        "    cons = ({'type': 'eq', 'fun' : lambda x: area - x[0]*x[2]*x[1]-x[0]**2*(x[2]-np.sin(x[2]))})\n",
        "    bnds = ((0, None), (0, None), (0, 2*np.pi))\n",
        "    f = lambda x: -(0.5*x[0]**2*x[1]*(x[2]-np.sin(x[2])))\n",
        "    res = minimize(f, (1,1,np.pi/4), bounds=bnds, constraints=cons)\n",
        "    return res\n",
        "\n",
        "# Call the optimize function to perform the optimization with a surface area of 10\n",
        "res = optimize(20)\n",
        "\n",
        "# Print the optimized values of the decision variables\n",
        "print(\"Optimized values: \", res.x)"
      ],
      "metadata": {
        "colab": {
          "base_uri": "https://localhost:8080/"
        },
        "id": "QkytdFCXDBiR",
        "outputId": "6b98ca9e-9f84-4d4a-e9f5-db9d5b729da0"
      },
      "execution_count": 5,
      "outputs": [
        {
          "output_type": "stream",
          "name": "stdout",
          "text": [
            "Optimized values:  [1.4567307  2.91346255 3.14159377]\n"
          ]
        }
      ]
    },
    {
      "cell_type": "code",
      "source": [
        "#Partial derivatives to find Lagrange multiplier\n",
        "\n",
        "import sympy as sp\n",
        "\n",
        "r,l,t,L=sp.symbols('r l theta lambda')\n",
        "f= 0.5*r**2*l*(t-sp.sin(t))\n",
        "g= r*t*l + r**2*(t - sp.sin(t)) - 20\n",
        "\n",
        "x,y,z=f.diff(r)-L*g.diff(r),f.diff(l)-L*g.diff(l),f.diff(t)-L*g.diff(t)\n",
        "display(x,y,z)"
      ],
      "metadata": {
        "colab": {
          "base_uri": "https://localhost:8080/",
          "height": 82
        },
        "id": "h1agswaHDToC",
        "outputId": "938ce859-0f9d-43df-e214-2d82dfb8eb8f"
      },
      "execution_count": 6,
      "outputs": [
        {
          "output_type": "display_data",
          "data": {
            "text/plain": [
              "1.0*l*r*(theta - sin(theta)) - lambda*(l*theta + 2*r*(theta - sin(theta)))"
            ],
            "text/latex": "$\\displaystyle 1.0 l r \\left(\\theta - \\sin{\\left(\\theta \\right)}\\right) - \\lambda \\left(l \\theta + 2 r \\left(\\theta - \\sin{\\left(\\theta \\right)}\\right)\\right)$"
          },
          "metadata": {}
        },
        {
          "output_type": "display_data",
          "data": {
            "text/plain": [
              "-lambda*r*theta + 0.5*r**2*(theta - sin(theta))"
            ],
            "text/latex": "$\\displaystyle - \\lambda r \\theta + 0.5 r^{2} \\left(\\theta - \\sin{\\left(\\theta \\right)}\\right)$"
          },
          "metadata": {}
        },
        {
          "output_type": "display_data",
          "data": {
            "text/plain": [
              "0.5*l*r**2*(1 - cos(theta)) - lambda*(l*r + r**2*(1 - cos(theta)))"
            ],
            "text/latex": "$\\displaystyle 0.5 l r^{2} \\cdot \\left(1 - \\cos{\\left(\\theta \\right)}\\right) - \\lambda \\left(l r + r^{2} \\cdot \\left(1 - \\cos{\\left(\\theta \\right)}\\right)\\right)$"
          },
          "metadata": {}
        }
      ]
    },
    {
      "cell_type": "code",
      "source": [
        "#Second optimisation to confirm values\n",
        "\n",
        "import numpy as np\n",
        "import scipy as sp\n",
        "from scipy.optimize import fsolve\n",
        "\n",
        "# Define the objective function and constraint function\n",
        "def f(r, l, t):\n",
        "    return 0.5*r**2*l*(t-sp.sin(t))\n",
        "\n",
        "def g(r, l, t):\n",
        "    return r*t*l + r**2*(t - sp.sin(t)) - 20\n",
        "\n",
        "# Define the Lagrangian function\n",
        "def L(r, l, t, lambda_):\n",
        "    return f(r, l, t) - lambda_ * g(r, l, t)\n",
        "\n",
        "# Define the system of equations to be solved\n",
        "def equations(variables):\n",
        "    r, l, t, lambda_ = variables\n",
        "    eq1 = l*r*(t-sp.sin(t)) - lambda_*(l*t + 2*r*(t-sp.sin(t)))\n",
        "    eq2 = -lambda_*r*t +0.5*r**2*(t-sp.sin(t))\n",
        "    eq3 = 0.5*l*r**2*(1-sp.cos(t))-lambda_*(l*r + r**2*(1-sp.cos(t)))\n",
        "    eq4 = g(r, l, t)\n",
        "    return [eq1, eq2, eq3, eq4]\n",
        "\n",
        "# Solve the system of equations using fsolve\n",
        "solution = fsolve(equations, [3, 1, 3.14, 2])\n",
        "r, l, t, lambda_ = solution\n",
        "\n",
        "# Print the solution\n",
        "print(\"r =\", r)\n",
        "print(\"l =\", l)\n",
        "print(\"t =\", t)\n",
        "print(\"lambda =\", lambda_)\n"
      ],
      "metadata": {
        "colab": {
          "base_uri": "https://localhost:8080/"
        },
        "id": "VZOejAD1GkZ3",
        "outputId": "59dc0df1-f514-442d-8d8e-102bc4878135"
      },
      "execution_count": 7,
      "outputs": [
        {
          "output_type": "stream",
          "name": "stdout",
          "text": [
            "r = 1.4567312407759216\n",
            "l = 2.9134624815830525\n",
            "t = 3.1415926536163807\n",
            "lambda = 0.7283656203940501\n"
          ]
        },
        {
          "output_type": "stream",
          "name": "stderr",
          "text": [
            "<ipython-input-7-d2588793104b>:21: DeprecationWarning: scipy.sin is deprecated and will be removed in SciPy 2.0.0, use numpy.sin instead\n",
            "  eq1 = l*r*(t-sp.sin(t)) - lambda_*(l*t + 2*r*(t-sp.sin(t)))\n",
            "<ipython-input-7-d2588793104b>:22: DeprecationWarning: scipy.sin is deprecated and will be removed in SciPy 2.0.0, use numpy.sin instead\n",
            "  eq2 = -lambda_*r*t +0.5*r**2*(t-sp.sin(t))\n",
            "<ipython-input-7-d2588793104b>:23: DeprecationWarning: scipy.cos is deprecated and will be removed in SciPy 2.0.0, use numpy.cos instead\n",
            "  eq3 = 0.5*l*r**2*(1-sp.cos(t))-lambda_*(l*r + r**2*(1-sp.cos(t)))\n",
            "<ipython-input-7-d2588793104b>:12: DeprecationWarning: scipy.sin is deprecated and will be removed in SciPy 2.0.0, use numpy.sin instead\n",
            "  return r*t*l + r**2*(t - sp.sin(t)) - 20\n"
          ]
        }
      ]
    },
    {
      "cell_type": "markdown",
      "source": [
        "Mock Paper"
      ],
      "metadata": {
        "id": "KYONzwz6HMN2"
      }
    },
    {
      "cell_type": "code",
      "source": [
        "import numpy as np\n",
        "from scipy.optimize import minimize\n",
        "\n",
        "def optimize(perimeter):\n",
        "    cons = ({'type': 'eq', 'fun' : lambda x: perimeter - x[0]-2*x[1]-2*x[2]})\n",
        "    bnds = ((0, None), (0, None), (0, None))\n",
        "    f = lambda x: -(x[0]*x[1]+0.25*x[0]*np.sqrt(4*x[2]**2-x[0]**2))\n",
        "    res = minimize(f, (20,20,20), bounds=bnds, constraints=cons)\n",
        "    return res\n",
        "\n",
        "# Call the optimize function to perform the optimization with a surface area of 10\n",
        "res = optimize(100)\n",
        "\n",
        "# Print the optimized values of the decision variables\n",
        "print(\"Optimized values: \", res.x)"
      ],
      "metadata": {
        "colab": {
          "base_uri": "https://localhost:8080/"
        },
        "id": "CKueRoZrHPQY",
        "outputId": "7843495f-c11b-4567-af9c-c8bf9ceaf8b6"
      },
      "execution_count": 8,
      "outputs": [
        {
          "output_type": "stream",
          "name": "stdout",
          "text": [
            "Optimized values:  [26.79491785 21.13249064 15.47005043]\n"
          ]
        },
        {
          "output_type": "stream",
          "name": "stderr",
          "text": [
            "<ipython-input-8-1a075b75b8f2>:7: RuntimeWarning: invalid value encountered in sqrt\n",
            "  f = lambda x: -(x[0]*x[1]+0.25*x[0]*np.sqrt(4*x[2]**2-x[0]**2))\n"
          ]
        }
      ]
    },
    {
      "cell_type": "code",
      "source": [
        "import sympy as smp\n",
        "\n",
        "a,b,c,l=smp.symbols('a b c lambda')\n",
        "\n",
        "f= a*b+0.25*a*smp.sqrt(4*c**2-a**2)\n",
        "g= a + 2*b +2*c -100\n",
        "\n",
        "x,y,z=f.diff(a)-l*g.diff(a),f.diff(b)-l*g.diff(b),f.diff(c)-l*g.diff(c)\n",
        "display(x,y,z)"
      ],
      "metadata": {
        "colab": {
          "base_uri": "https://localhost:8080/",
          "height": 118
        },
        "id": "gNquqTEDHZsH",
        "outputId": "f3e04e05-bc19-45db-ab07-a49c009c32b7"
      },
      "execution_count": 9,
      "outputs": [
        {
          "output_type": "display_data",
          "data": {
            "text/plain": [
              "-0.25*a**2/sqrt(-a**2 + 4*c**2) + b - lambda + 0.25*sqrt(-a**2 + 4*c**2)"
            ],
            "text/latex": "$\\displaystyle - \\frac{0.25 a^{2}}{\\sqrt{- a^{2} + 4 c^{2}}} + b - \\lambda + 0.25 \\sqrt{- a^{2} + 4 c^{2}}$"
          },
          "metadata": {}
        },
        {
          "output_type": "display_data",
          "data": {
            "text/plain": [
              "a - 2*lambda"
            ],
            "text/latex": "$\\displaystyle a - 2 \\lambda$"
          },
          "metadata": {}
        },
        {
          "output_type": "display_data",
          "data": {
            "text/plain": [
              "1.0*a*c/sqrt(-a**2 + 4*c**2) - 2*lambda"
            ],
            "text/latex": "$\\displaystyle \\frac{1.0 a c}{\\sqrt{- a^{2} + 4 c^{2}}} - 2 \\lambda$"
          },
          "metadata": {}
        }
      ]
    },
    {
      "cell_type": "code",
      "source": [
        "import numpy as np\n",
        "import scipy as sp\n",
        "from scipy.optimize import fsolve\n",
        "\n",
        "# Define the objective function and constraint function\n",
        "def f(a, b, c):\n",
        "    return a*b+0.25*a*np.sqrt(4*c**2-a**2)\n",
        "\n",
        "def g(a, b, c):\n",
        "    return a + 2*b + 2*c -100\n",
        "\n",
        "# Define the Lagrangian function\n",
        "def L(a, b, c, lambda_):\n",
        "    return f(a, b, c) - lambda_ * g(a, b, c)\n",
        "\n",
        "# Define the system of equations to be solved\n",
        "def equations(variables):\n",
        "    a, b, c, lambda_ = variables\n",
        "    eq1 = -(0.25*a**2/np.sqrt(-a**2+4*c**2))+b -lambda_ + 0.25*np.sqrt(-a**2+4*c**2)\n",
        "    eq2 = a - 2*lambda_\n",
        "    eq3 = (a*c/np.sqrt(-a**2+4*c**2)) - 2*lambda_\n",
        "    eq4 = g(a, b, c)\n",
        "    return [eq1, eq2, eq3, eq4]\n",
        "\n",
        "# Solve the system of equations using fsolve\n",
        "solution = fsolve(equations, [26, 21, 15, 5])\n",
        "a, b, c, lambda_ = solution\n",
        "\n",
        "# Print the solution\n",
        "print(\"a =\", a)\n",
        "print(\"b =\", b)\n",
        "print(\"c =\", c)\n",
        "print(\"lambda =\", lambda_)"
      ],
      "metadata": {
        "colab": {
          "base_uri": "https://localhost:8080/"
        },
        "id": "CDdYJmsmHfIi",
        "outputId": "e226dc4e-903b-497c-b819-5fbfa083475e"
      },
      "execution_count": 10,
      "outputs": [
        {
          "output_type": "stream",
          "name": "stdout",
          "text": [
            "a = 26.794919243112272\n",
            "b = 21.132486540518713\n",
            "c = 15.470053837925153\n",
            "lambda = 13.397459621556136\n"
          ]
        }
      ]
    },
    {
      "cell_type": "markdown",
      "source": [
        "EXPLAIN QUESTION\n",
        "\n",
        "Q.  By discussing level curves of a function to be optimised f and the constraint\n",
        "g = 0, explain how we arrive at the Lagrange method of constrained optimisation.\n",
        "Define any relevant terms. You may wish to include any sketches to clarify.\n",
        "(Max. 100 words) \n",
        "\n",
        "A. The Lagrange method of constrained optimization arises from the need to find the maximum or minimum of a function subject to a constraint. The method involves introducing a Lagrange multiplier, which is a scalar parameter used to incorporate the constraint into the optimization problem. The Lagrange multiplier is multiplied by the constraint function and added to the objective function, resulting in a new function to be optimized. The critical points of this new function satisfy a set of equations called the Lagrange equations. Geometrically, the Lagrange method can be interpreted as finding the points where the level curves of the objective function and the constraint intersect tangentially."
      ],
      "metadata": {
        "id": "4308Esp1y57o"
      }
    },
    {
      "cell_type": "markdown",
      "source": [
        "Maclaurin Series x0 = 0"
      ],
      "metadata": {
        "id": "RRzUiqo-wWXe"
      }
    },
    {
      "cell_type": "code",
      "source": [
        "import sympy as sp\n",
        "\n",
        "x = sp.Symbol('x')\n",
        "n = 9\n",
        "series_expansion = sp.series(sp.log(1 + x*x), x, 0, n)\n",
        "series_expansion_no_O = series_expansion.removeO()\n",
        "\n",
        "display(series_expansion_no_O)"
      ],
      "metadata": {
        "colab": {
          "base_uri": "https://localhost:8080/",
          "height": 54
        },
        "id": "AvtWI-MIwfS0",
        "outputId": "35535e87-cc9b-4a5d-a003-d2d14a49efdb"
      },
      "execution_count": 1,
      "outputs": [
        {
          "output_type": "display_data",
          "data": {
            "text/plain": [
              "-x**8/4 + x**6/3 - x**4/2 + x**2"
            ],
            "text/latex": "$\\displaystyle - \\frac{x^{8}}{4} + \\frac{x^{6}}{3} - \\frac{x^{4}}{2} + x^{2}$"
          },
          "metadata": {}
        }
      ]
    },
    {
      "cell_type": "markdown",
      "source": [
        "Taylor series x0 = a"
      ],
      "metadata": {
        "id": "fYySG0lYwmd8"
      }
    },
    {
      "cell_type": "code",
      "source": [
        "import sympy as sp\n",
        "\n",
        "x = sp.Symbol('x')\n",
        "a = 5\n",
        "n = 9\n",
        "series_expansion = sp.series(sp.log(1 + x*x), x, x0=a, n=n)\n",
        "series_expansion_no_O = series_expansion.removeO()\n",
        "\n",
        "display(series_expansion_no_O)"
      ],
      "metadata": {
        "colab": {
          "base_uri": "https://localhost:8080/",
          "height": 90
        },
        "id": "z1E6M9Lrwpnu",
        "outputId": "f3fc6a1d-15b9-4765-b462-6e06ad78ee32"
      },
      "execution_count": 12,
      "outputs": [
        {
          "output_type": "display_data",
          "data": {
            "text/plain": [
              "5*x/13 + 239*(x - 5)**8/52206766144 + 2105*(x - 5)**7/3513916952 - 69*(x - 5)**6/9653618 + 95*(x - 5)**5/1485172 - 119*(x - 5)**4/228488 + 55*(x - 5)**3/13182 - 6*(x - 5)**2/169 - 25/13 + log(26)"
            ],
            "text/latex": "$\\displaystyle \\frac{5 x}{13} + \\frac{239 \\left(x - 5\\right)^{8}}{52206766144} + \\frac{2105 \\left(x - 5\\right)^{7}}{3513916952} - \\frac{69 \\left(x - 5\\right)^{6}}{9653618} + \\frac{95 \\left(x - 5\\right)^{5}}{1485172} - \\frac{119 \\left(x - 5\\right)^{4}}{228488} + \\frac{55 \\left(x - 5\\right)^{3}}{13182} - \\frac{6 \\left(x - 5\\right)^{2}}{169} - \\frac{25}{13} + \\log{\\left(26 \\right)}$"
          },
          "metadata": {}
        }
      ]
    },
    {
      "cell_type": "markdown",
      "source": [
        "To approximate the function at x = given value i.e. 10"
      ],
      "metadata": {
        "id": "KOSTxQR7w3lf"
      }
    },
    {
      "cell_type": "code",
      "source": [
        "import sympy as sp\n",
        "\n",
        "x = sp.Symbol('x')\n",
        "x = 10\n",
        "a = 5\n",
        "n = 9\n",
        "series_expansion = sp.series(sp.log(1 + x*x), x, x0=a, n=n).evalf()\n",
        "series_expansion_no_O = series_expansion.removeO()\n",
        "\n",
        "display(series_expansion_no_O)"
      ],
      "metadata": {
        "colab": {
          "base_uri": "https://localhost:8080/",
          "height": 37
        },
        "id": "OoEXomW3xCZc",
        "outputId": "9fd34355-4ceb-47a9-da3d-c2ecfdb1f6d6"
      },
      "execution_count": 13,
      "outputs": [
        {
          "output_type": "display_data",
          "data": {
            "text/plain": [
              "4.61512051684126"
            ],
            "text/latex": "$\\displaystyle 4.61512051684126$"
          },
          "metadata": {}
        }
      ]
    }
  ]
}