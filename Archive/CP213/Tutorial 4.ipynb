{
  "cells": [
    {
      "cell_type": "markdown",
      "metadata": {
        "id": "Q_40jnNP1_SY"
      },
      "source": [
        "# CP213: Tutorial Notebook S2 Week 4"
      ]
    },
    {
      "cell_type": "markdown",
      "metadata": {
        "id": "xZd1JwL21_Sf"
      },
      "source": [
        "## Question 1\n",
        "\n",
        "In statistics we have observed probability density functions (pdfs) relating to one variable, $f_X(x)$. Joint pdfs of the type $f_{XY}(x,y)$ can be defined from which probabilities can be determined as so:\n",
        "\\begin{align*}\n",
        "    P(a\\leq X\\leq b,c\\leq Y\\leq d)=\\int_a^b\\int_c^df_{XY}(x,y)dydx\n",
        "\\end{align*}\n",
        "Note that the range, $R_{XY}$, can be shown in the $x-y$ plane.\n",
        "\n",
        "Given the joint pdf:\n",
        "\\begin{equation*}\n",
        "    f_{XY}(x,y) = \\left\\{\n",
        "        \\begin{array}{l l}\n",
        "            ky^2+x &  \\quad 0 \\leq x \\leq 1,0 \\leq y \\leq 1  \\\\\n",
        "            0 &  \\quad \\text{otherwise} \\end{array} \\right.\n",
        "\\end{equation*}\n",
        "\n",
        "1. Determine k\n",
        "\n",
        " **Hint.** Think about the properties of single variable pdfs and how these might apply to joint pdfs.\n",
        "\n",
        "2. Determine $P(0\\leq X\\leq\\frac{1}{2},0\\leq Y\\leq\\frac{1}{2})$\n",
        "\n",
        "3. Determine $P(Y\\leq\\frac{X}{2})$ and sketch the region of integration.\n",
        "\n",
        "4. Joint pdfs contain all the information about each individual variable across the range of possible values. Therefore we can define the \\textit{marginal pdf} for each variable, as so:\n",
        "\\begin{align*}\n",
        "f_X(x)&=\\int_{-\\infty}^{\\infty}f_{XY}(x,y)dy \n",
        "\\\\\n",
        "f_Y(y)&=\\int_{-\\infty}^{\\infty}f_{XY}(x,y)dx\n",
        "\\end{align*}\n",
        "Hence determine the marginal pdfs for the above joint pdf.\n",
        "\n",
        "5. What type of correlation exists between $X$ and $Y$?\n",
        "\n",
        " **Hint.**\n",
        "Remember that: \n",
        "\\begin{align*}\n",
        "COV(X,Y)=E(XY)-E(X)E(Y)\n",
        "\\end{align*}\n",
        "and that:\n",
        "\\begin{align*}\n",
        "E(g(X))=\\int_{-\\infty}^{\\infty}g(x)f(x)dx\n",
        "\\end{align*}\n"
      ]
    },
    {
      "cell_type": "code",
      "execution_count": null,
      "metadata": {
        "id": "UDRVq_Cz1_Sg",
        "colab": {
          "base_uri": "https://localhost:8080/",
          "height": 52
        },
        "outputId": "b00f2b1c-35cf-424d-9177-36a6ff0cbf6c"
      },
      "outputs": [
        {
          "output_type": "display_data",
          "data": {
            "text/plain": [
              "k/3 + 1/2"
            ],
            "text/latex": "$\\displaystyle \\frac{k}{3} + \\frac{1}{2}$"
          },
          "metadata": {}
        }
      ],
      "source": [
        "import sympy as sp\n",
        "\n",
        "x , y , k , z=sp.symbols('x y k z')\n",
        "f =k*y**2+x\n",
        "\n",
        "res = sp.integrate(f , (y,0,1),(x,0,1))\n",
        "display(res)"
      ]
    },
    {
      "cell_type": "code",
      "source": [
        "sp.solve(res)"
      ],
      "metadata": {
        "colab": {
          "base_uri": "https://localhost:8080/"
        },
        "id": "8LtabeJlesqz",
        "outputId": "5b7425c6-7303-46dd-9940-1a78459447cf"
      },
      "execution_count": null,
      "outputs": [
        {
          "output_type": "execute_result",
          "data": {
            "text/plain": [
              "[-3/2]"
            ]
          },
          "metadata": {},
          "execution_count": 12
        }
      ]
    },
    {
      "cell_type": "code",
      "source": [
        "f = 3/2*y**2+x\n",
        "res = sp.integrate(f , (y,0,0.5),(x,0,0.5))\n",
        "display(res)"
      ],
      "metadata": {
        "colab": {
          "base_uri": "https://localhost:8080/",
          "height": 37
        },
        "id": "R9A3EB283kXF",
        "outputId": "67b64b3b-3d5c-4bf1-977b-e670dd7a68b8"
      },
      "execution_count": null,
      "outputs": [
        {
          "output_type": "display_data",
          "data": {
            "text/plain": [
              "0.0937500000000000"
            ],
            "text/latex": "$\\displaystyle 0.09375$"
          },
          "metadata": {}
        }
      ]
    },
    {
      "cell_type": "markdown",
      "source": [
        "k=3/2"
      ],
      "metadata": {
        "id": "rBQf79hp3du5"
      }
    },
    {
      "cell_type": "code",
      "source": [
        "res = sp.integrate(f , (y,0,x/2),(x,0,1))\n",
        "display(res)"
      ],
      "metadata": {
        "colab": {
          "base_uri": "https://localhost:8080/",
          "height": 37
        },
        "id": "TDAYr1w74Jkb",
        "outputId": "59d1b329-047e-4308-a496-037968596316"
      },
      "execution_count": null,
      "outputs": [
        {
          "output_type": "display_data",
          "data": {
            "text/plain": [
              "0.182291666666667"
            ],
            "text/latex": "$\\displaystyle 0.182291666666667$"
          },
          "metadata": {}
        }
      ]
    },
    {
      "cell_type": "code",
      "source": [
        "import matplotlib.pylab as plt \n",
        "\n",
        "sp.lambdify(x,f)\n"
      ],
      "metadata": {
        "colab": {
          "base_uri": "https://localhost:8080/"
        },
        "id": "QCPZilp_7Ge_",
        "outputId": "143d44b9-30fa-45f1-b949-6e8a5b169217"
      },
      "execution_count": null,
      "outputs": [
        {
          "output_type": "execute_result",
          "data": {
            "text/plain": [
              "<function _lambdifygenerated(x)>"
            ]
          },
          "metadata": {},
          "execution_count": 18
        }
      ]
    },
    {
      "cell_type": "code",
      "source": [
        "f = (3/2)*y**2+x\n",
        "intx = sp.integrate(f,(x,0,1))\n",
        "inty = sp.integrate(f,(y,0,1))\n",
        "display(intx,inty)\n"
      ],
      "metadata": {
        "id": "eHWQpyHs8lXc",
        "colab": {
          "base_uri": "https://localhost:8080/",
          "height": 60
        },
        "outputId": "40bc1bde-391c-438b-de31-efd6f9dd844b"
      },
      "execution_count": null,
      "outputs": [
        {
          "output_type": "display_data",
          "data": {
            "text/plain": [
              "1.5*y**2 + 0.5"
            ],
            "text/latex": "$\\displaystyle 1.5 y^{2} + 0.5$"
          },
          "metadata": {}
        },
        {
          "output_type": "display_data",
          "data": {
            "text/plain": [
              "1.0*x + 0.5"
            ],
            "text/latex": "$\\displaystyle 1.0 x + 0.5$"
          },
          "metadata": {}
        }
      ]
    },
    {
      "cell_type": "code",
      "source": [
        "f = ((3/2)*y*2+x)*x\n",
        "intx = sp.integrate(f,(x,0,1))\n",
        "inty = sp.integrate(f,(y,0,1))\n",
        "intxy = sp.integrate(f,(x,0,1),(y,0,1))\n",
        "cov = intxy-intx*inty\n",
        "display(cov)\n"
      ],
      "metadata": {
        "colab": {
          "base_uri": "https://localhost:8080/",
          "height": 39
        },
        "id": "qrcTsyuTn-jv",
        "outputId": "aac78170-08a0-43d1-b87b-9466646b87ff"
      },
      "execution_count": null,
      "outputs": [
        {
          "output_type": "display_data",
          "data": {
            "text/plain": [
              "-(1.0*x**2 + 1.5*x)*(1.5*y + 0.333333333333333) + 1.08333333333333"
            ],
            "text/latex": "$\\displaystyle - \\left(1.0 x^{2} + 1.5 x\\right) \\left(1.5 y + 0.333333333333333\\right) + 1.08333333333333$"
          },
          "metadata": {}
        }
      ]
    },
    {
      "cell_type": "markdown",
      "metadata": {
        "id": "qmpw6ieH1_Sh"
      },
      "source": [
        "## Question 2\n",
        "\n",
        "Sketch the region of integration and evaluate the integral:\n",
        "\\begin{align*}\n",
        "    \\int_0^6 \\int_{x/3}^2 \\, x \\left( y^3 + 1 \\right)^{1/2} \\, dy\\,dx\n",
        "\\end{align*}\n",
        "**Hint.** If you are finding this integration difficult to evaluate, think about how you could reinterpret aspects to make it easier to evaluate.\n"
      ]
    },
    {
      "cell_type": "code",
      "execution_count": null,
      "metadata": {
        "id": "ad72a9-m1_Si",
        "colab": {
          "base_uri": "https://localhost:8080/",
          "height": 37
        },
        "outputId": "3e3e1f53-42f8-4748-9798-a111b106c2c5"
      },
      "outputs": [
        {
          "output_type": "display_data",
          "data": {
            "text/plain": [
              "26.0000000000000"
            ],
            "text/latex": "$\\displaystyle 26.0$"
          },
          "metadata": {}
        }
      ],
      "source": [
        "f = x*(y**3+1)**0.5\n",
        "\n",
        "integ = sp.integrate(f,(x,0,3*y),(y,0,2))\n",
        "display(integ)\n",
        "\n"
      ]
    },
    {
      "cell_type": "markdown",
      "metadata": {
        "id": "vRwB092B1_Si"
      },
      "source": [
        "## Question 3\n",
        "\n",
        "Evaluate the surface integral of the function $f(x,y)=1-x^2-y^2$ over the region bounded by two concentric circles, one being the unit circle and the other a circle with radius of length 2.\n",
        "\n",
        "**Hint.** Think about the shape of the region - this should give you an idea of what needs to be done to proceed with evaluating the integral.\n"
      ]
    },
    {
      "cell_type": "code",
      "execution_count": null,
      "metadata": {
        "id": "df4WeO2P1_Sj",
        "colab": {
          "base_uri": "https://localhost:8080/",
          "height": 73
        },
        "outputId": "a7d79a82-8581-4349-e8d0-fcf3b4417309"
      },
      "outputs": [
        {
          "output_type": "display_data",
          "data": {
            "text/plain": [
              "r*(-r**2*sin(theta)**2 - r**2*cos(theta)**2 + 1)"
            ],
            "text/latex": "$\\displaystyle r \\left(- r^{2} \\sin^{2}{\\left(\\theta \\right)} - r^{2} \\cos^{2}{\\left(\\theta \\right)} + 1\\right)$"
          },
          "metadata": {}
        },
        {
          "output_type": "display_data",
          "data": {
            "text/plain": [
              "-9*pi/2"
            ],
            "text/latex": "$\\displaystyle - \\frac{9 \\pi}{2}$"
          },
          "metadata": {}
        }
      ],
      "source": [
        "r ,theta = sp.symbols('r theta')\n",
        "\n",
        "f = 1-x**2-y**2\n",
        "\n",
        "pol =f.subs(x,r*sp.cos(theta)).subs(y,r*sp.sin(theta))*r\n",
        "display(pol)\n",
        "res = sp.integrate(pol ,(theta,0,2*sp.pi),(r,1,2))\n",
        "display(res)"
      ]
    }
  ],
  "metadata": {
    "kernelspec": {
      "display_name": "Python 3",
      "language": "python",
      "name": "python3"
    },
    "language_info": {
      "codemirror_mode": {
        "name": "ipython",
        "version": 3
      },
      "file_extension": ".py",
      "mimetype": "text/x-python",
      "name": "python",
      "nbconvert_exporter": "python",
      "pygments_lexer": "ipython3",
      "version": "3.9.1"
    },
    "colab": {
      "provenance": []
    }
  },
  "nbformat": 4,
  "nbformat_minor": 0
}