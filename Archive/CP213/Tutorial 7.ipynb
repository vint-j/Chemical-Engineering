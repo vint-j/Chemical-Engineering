{
  "cells": [
    {
      "cell_type": "markdown",
      "metadata": {
        "id": "0NRxuQWcptcL"
      },
      "source": [
        "# CP213: Tutorial Notebook S2 Week 7\n",
        "\n",
        "This week, while you are welcome to attempt the questions by hand, you should familiarise yourself with how `python` can be used to deal with the below matrix related questions too.\n",
        "\n",
        "## Question 1\n",
        "Let $\\boldsymbol{A}=\\begin{pmatrix} 1&2&5\\\\4&6&9\\end{pmatrix}$, $\\boldsymbol{B}=\\begin{pmatrix} 2 & 5 & 6\\\\1 & 7 & 2\\\\9 & 6 & 1\\end{pmatrix}$, and $\\boldsymbol{C}=\\begin{pmatrix} 5 & 4 & 9\\\\7 & 4 & 0\\\\6 & 9 & 8\\end{pmatrix}$\n",
        "\n",
        "Compute the following:\n",
        "\n",
        "1. $\\boldsymbol{B} + \\boldsymbol{C}$\n",
        "2. $3\\boldsymbol{B} + 2\\boldsymbol{C}$\n",
        "3. $\\boldsymbol{A} + \\boldsymbol{B}$\n",
        "4. $\\boldsymbol{AB}$\n",
        "5. $\\boldsymbol{BA}$"
      ]
    },
    {
      "cell_type": "code",
      "execution_count": null,
      "metadata": {
        "id": "6-R3NfyKptcV"
      },
      "outputs": [],
      "source": [
        "import sympy as sp \n",
        "A=sp.Matrix([[1,2,5],[4,6,9]])\n",
        "B=sp.Matrix([[2,5,6],[1,7,2],[9,6,1]])\n",
        "C=sp.Matrix([[5,4,9],[7,4,0],[6,9,8]])"
      ]
    },
    {
      "cell_type": "code",
      "source": [
        "display(\"B+C\",B+C,\"3B+2C\",3*B+2*C)\n",
        "display('AB',A*B)"
      ],
      "metadata": {
        "id": "i1e1da9WqqHg",
        "outputId": "c32521ee-33be-4bea-fdcf-5dad80573346",
        "colab": {
          "base_uri": "https://localhost:8080/",
          "height": 234
        }
      },
      "execution_count": null,
      "outputs": [
        {
          "output_type": "display_data",
          "data": {
            "text/plain": [
              "'B+C'"
            ],
            "application/vnd.google.colaboratory.intrinsic+json": {
              "type": "string"
            }
          },
          "metadata": {}
        },
        {
          "output_type": "display_data",
          "data": {
            "text/plain": [
              "Matrix([\n",
              "[ 7,  9, 15],\n",
              "[ 8, 11,  2],\n",
              "[15, 15,  9]])"
            ],
            "text/latex": "$\\displaystyle \\left[\\begin{matrix}7 & 9 & 15\\\\8 & 11 & 2\\\\15 & 15 & 9\\end{matrix}\\right]$"
          },
          "metadata": {}
        },
        {
          "output_type": "display_data",
          "data": {
            "text/plain": [
              "'3B+2C'"
            ],
            "application/vnd.google.colaboratory.intrinsic+json": {
              "type": "string"
            }
          },
          "metadata": {}
        },
        {
          "output_type": "display_data",
          "data": {
            "text/plain": [
              "Matrix([\n",
              "[16, 23, 36],\n",
              "[17, 29,  6],\n",
              "[39, 36, 19]])"
            ],
            "text/latex": "$\\displaystyle \\left[\\begin{matrix}16 & 23 & 36\\\\17 & 29 & 6\\\\39 & 36 & 19\\end{matrix}\\right]$"
          },
          "metadata": {}
        },
        {
          "output_type": "display_data",
          "data": {
            "text/plain": [
              "'AB'"
            ],
            "application/vnd.google.colaboratory.intrinsic+json": {
              "type": "string"
            }
          },
          "metadata": {}
        },
        {
          "output_type": "display_data",
          "data": {
            "text/plain": [
              "Matrix([\n",
              "[49,  49, 15],\n",
              "[95, 116, 45]])"
            ],
            "text/latex": "$\\displaystyle \\left[\\begin{matrix}49 & 49 & 15\\\\95 & 116 & 45\\end{matrix}\\right]$"
          },
          "metadata": {}
        }
      ]
    },
    {
      "cell_type": "code",
      "source": [
        "Aext=sp.Matrix([[1,2,5],[4,6,9],[0,0,0]])\n",
        "display('A+B',Aext+B,'BA',B@Aext)"
      ],
      "metadata": {
        "id": "Co8H7l9IBVYR",
        "outputId": "8a046701-57e6-4fb8-dace-5165c6ef6385",
        "colab": {
          "base_uri": "https://localhost:8080/",
          "height": 176
        }
      },
      "execution_count": null,
      "outputs": [
        {
          "output_type": "display_data",
          "data": {
            "text/plain": [
              "'A+B'"
            ],
            "application/vnd.google.colaboratory.intrinsic+json": {
              "type": "string"
            }
          },
          "metadata": {}
        },
        {
          "output_type": "display_data",
          "data": {
            "text/plain": [
              "Matrix([\n",
              "[3,  7, 11],\n",
              "[5, 13, 11],\n",
              "[9,  6,  1]])"
            ],
            "text/latex": "$\\displaystyle \\left[\\begin{matrix}3 & 7 & 11\\\\5 & 13 & 11\\\\9 & 6 & 1\\end{matrix}\\right]$"
          },
          "metadata": {}
        },
        {
          "output_type": "display_data",
          "data": {
            "text/plain": [
              "'BA'"
            ],
            "application/vnd.google.colaboratory.intrinsic+json": {
              "type": "string"
            }
          },
          "metadata": {}
        },
        {
          "output_type": "display_data",
          "data": {
            "text/plain": [
              "Matrix([\n",
              "[22, 34, 55],\n",
              "[29, 44, 68],\n",
              "[33, 54, 99]])"
            ],
            "text/latex": "$\\displaystyle \\left[\\begin{matrix}22 & 34 & 55\\\\29 & 44 & 68\\\\33 & 54 & 99\\end{matrix}\\right]$"
          },
          "metadata": {}
        }
      ]
    },
    {
      "cell_type": "markdown",
      "metadata": {
        "id": "AXBYoHKQptcY"
      },
      "source": [
        "## Question 2\n",
        "Let $\\boldsymbol{H}= \\begin{pmatrix} 1 & 1 & 1.5 & 2 & 2\\\\2 & 4 & 5 & 4 & 2\\end{pmatrix}$ be the matrix representing the sequence of vertices PQRST of a figure represented on the x-y plane.\n",
        "\n",
        "1. Determine the shape of the figure represented by $\\boldsymbol{H}$. \n",
        "2. Let $\\boldsymbol{A} = \\begin{pmatrix} 0 & 1\\\\1 & 0\\end{pmatrix}$. Determine the image of the figure under the transformation represented by $\\boldsymbol{AH}$. Illustrate and describe what effect this transformation has.\n"
      ]
    },
    {
      "cell_type": "code",
      "execution_count": null,
      "metadata": {
        "id": "ogxBFjt5ptca",
        "outputId": "031cc5a1-7a53-4d3b-af47-c4e500e0845a",
        "colab": {
          "base_uri": "https://localhost:8080/",
          "height": 98
        }
      },
      "outputs": [
        {
          "output_type": "display_data",
          "data": {
            "text/plain": [
              "Matrix([\n",
              "[1, 1, 1.5, 2, 2],\n",
              "[2, 4,   5, 4, 2]])"
            ],
            "text/latex": "$\\displaystyle \\left[\\begin{matrix}1 & 1 & 1.5 & 2 & 2\\\\2 & 4 & 5 & 4 & 2\\end{matrix}\\right]$"
          },
          "metadata": {}
        },
        {
          "output_type": "display_data",
          "data": {
            "text/plain": [
              "Matrix([\n",
              "[0, 1],\n",
              "[1, 0]])"
            ],
            "text/latex": "$\\displaystyle \\left[\\begin{matrix}0 & 1\\\\1 & 0\\end{matrix}\\right]$"
          },
          "metadata": {}
        }
      ],
      "source": [
        "import sympy as sp \n",
        "H=sp.Matrix([[1,1,1.5,2,2],[2,4,5,4,2]])\n",
        "A=sp.Matrix([[0,1],[1,0]])\n",
        "display(H,A)"
      ]
    },
    {
      "cell_type": "code",
      "source": [
        "import sympy as sp\n",
        "import matplotlib.pyplot as plt\n",
        "\n",
        "# define the matrix H\n",
        "H = sp.Matrix([[1, 1, 1.5, 2, 2], [2, 4, 5, 4, 2]])\n",
        "\n",
        "# extract the x and y coordinates from H\n",
        "x = H.row(0)\n",
        "y = H.row(1)\n",
        "\n",
        "# plot the points\n",
        "plt.plot(x, y, '-o')\n",
        "for i in range(4):\n",
        "    plt.plot([x[i], x[i+1]], [y[i], y[i+1]], '-o')\n",
        "plt.plot([x[4], x[0]], [y[4], y[0]], '-o')\n",
        "plt.xlabel('x')\n",
        "plt.ylabel('y')\n",
        "plt.show()\n"
      ],
      "metadata": {
        "id": "aLQeSkl3DKSm",
        "outputId": "e595943f-7c3d-4356-e40c-d8161a9a89cc",
        "colab": {
          "base_uri": "https://localhost:8080/",
          "height": 279
        }
      },
      "execution_count": null,
      "outputs": [
        {
          "output_type": "display_data",
          "data": {
            "text/plain": [
              "<Figure size 432x288 with 1 Axes>"
            ],
            "image/png": "[encoded data removed]"
          },
          "metadata": {
            "needs_background": "light"
          }
        }
      ]
    },
    {
      "cell_type": "code",
      "source": [
        "import sympy as sp\n",
        "import matplotlib.pyplot as plt\n",
        "\n",
        "A = sp.Matrix([[0, 1], [1, 0]])\n",
        "\n",
        "H = sp.Matrix([[1, 1, 1.5, 2, 2], [2, 4, 5, 4, 2]])\n",
        "AH = A * H\n",
        "x = H.row(0)\n",
        "y = H.row(1)\n",
        "x_transformed = AH.row(0)\n",
        "y_transformed = AH.row(1)\n",
        "\n",
        "fig, ax = plt.subplots()\n",
        "\n",
        "ax.plot(x_transformed, y_transformed, '-o')\n",
        "for i in range(4):\n",
        "    plt.plot([x_transformed[i], x_transformed[i+1]], [y_transformed[i], y_transformed[i+1]], '-o')\n",
        "plt.plot([x_transformed[4], x_transformed[0]], [y_transformed[4], y_transformed[0]], '-o')\n",
        "ax.set_xlabel('x')\n",
        "ax.set_ylabel('y')\n",
        "\n",
        "\n"
      ],
      "metadata": {
        "id": "GpJWgouGEXpZ",
        "outputId": "8829be1c-ae65-4658-9306-d7643ee45b80",
        "colab": {
          "base_uri": "https://localhost:8080/",
          "height": 297
        }
      },
      "execution_count": null,
      "outputs": [
        {
          "output_type": "execute_result",
          "data": {
            "text/plain": [
              "Text(0, 0.5, 'y')"
            ]
          },
          "metadata": {},
          "execution_count": 9
        },
        {
          "output_type": "display_data",
          "data": {
            "text/plain": [
              "<Figure size 432x288 with 1 Axes>"
            ],
            "image/png": "[encoded data removed]"
          },
          "metadata": {
            "needs_background": "light"
          }
        }
      ]
    },
    {
      "cell_type": "markdown",
      "metadata": {
        "id": "BWnAqTfYptcb"
      },
      "source": [
        "## Question 3\n",
        "Let $\\boldsymbol{A}$ represent the triangle with vertices $P(2,2)$, $Q(2,5)$ and $R(4,2)$.\n",
        "\n",
        "1. Write the matrix $\\boldsymbol{A}$\n",
        "2. Determine the image of the triangle under the transformation represented by the matrix multiplication $\\boldsymbol{BA}$, where $\\boldsymbol{B}=\\begin{pmatrix}1&0\\\\0&-1\\end{pmatrix}$. Hence, illustrate and describe what effect this transformation has.\n",
        "3. Determine the image of the triangle under the transformation represented by the matrix multiplication $\\boldsymbol{CA}$, where $\\boldsymbol{C}=\\begin{pmatrix}0&-1\\\\1&0\\end{pmatrix}$. Hence, illustrate and describe what effect this transformation has."
      ]
    },
    {
      "cell_type": "code",
      "execution_count": null,
      "metadata": {
        "id": "0xW2Ylbvptcc",
        "outputId": "b174e77c-4a58-40ee-963d-798f56744f44",
        "colab": {
          "base_uri": "https://localhost:8080/",
          "height": 265
        }
      },
      "outputs": [
        {
          "output_type": "display_data",
          "data": {
            "text/plain": [
              "<Figure size 432x288 with 1 Axes>"
            ],
            "image/png": "[encoded data removed]"
          },
          "metadata": {
            "needs_background": "light"
          }
        }
      ],
      "source": [
        "import sympy as sp \n",
        "import matplotlib.pyplot as plt\n",
        "A=sp.Matrix([[2,2,4],[2,5,2]])\n",
        "B=sp.Matrix([[1,0],[0,-1]])\n",
        "C=sp.Matrix([[0,-1],[1,0]])\n",
        "x=A.row(0)\n",
        "y=A.row(1)\n",
        "plt.plot(x,y,'-o')\n",
        "for i in range(2):\n",
        "    plt.plot([x[i], x[i+1]], [y[i], y[i+1]], '-o')\n",
        "plt.plot([x[2], x[0]], [y[2], y[0]], '-o')\n",
        "plt.show()"
      ]
    },
    {
      "cell_type": "code",
      "source": [
        "BA=B*A\n",
        "x=BA.row(0)\n",
        "y=BA.row(1)\n",
        "plt.plot(x,y,'-o')\n",
        "for i in range(2):\n",
        "    plt.plot([x[i], x[i+1]], [y[i], y[i+1]], '-o')\n",
        "plt.plot([x[2], x[0]], [y[2], y[0]], '-o')\n",
        "plt.show()"
      ],
      "metadata": {
        "id": "27tPAqFLHWaD",
        "outputId": "e2ae194b-5bf0-4ece-f84b-fa8bae21f646",
        "colab": {
          "base_uri": "https://localhost:8080/",
          "height": 265
        }
      },
      "execution_count": null,
      "outputs": [
        {
          "output_type": "display_data",
          "data": {
            "text/plain": [
              "<Figure size 432x288 with 1 Axes>"
            ],
            "image/png": "[encoded data removed]"
          },
          "metadata": {
            "needs_background": "light"
          }
        }
      ]
    },
    {
      "cell_type": "code",
      "source": [
        "CA=C*A\n",
        "x=CA.row(0)\n",
        "y=CA.row(1)\n",
        "plt.plot(x,y,'-o')\n",
        "for i in range(2):\n",
        "    plt.plot([x[i], x[i+1]], [y[i], y[i+1]], '-o')\n",
        "plt.plot([x[2], x[0]], [y[2], y[0]], '-o')\n",
        "plt.show()"
      ],
      "metadata": {
        "id": "18bRzLeEHdNO",
        "outputId": "5cd7e5ae-a6f1-4301-c9af-c595ebe9bc97",
        "colab": {
          "base_uri": "https://localhost:8080/",
          "height": 265
        }
      },
      "execution_count": null,
      "outputs": [
        {
          "output_type": "display_data",
          "data": {
            "text/plain": [
              "<Figure size 432x288 with 1 Axes>"
            ],
            "image/png": "[encoded data removed]"
          },
          "metadata": {
            "needs_background": "light"
          }
        }
      ]
    },
    {
      "cell_type": "markdown",
      "metadata": {
        "id": "xg8TOnLBptcd"
      },
      "source": [
        "## Question 4\n",
        "Let $\\boldsymbol{A}=\\begin{pmatrix} 7 & 9 \\\\ 5 & 7 \\end{pmatrix}$.\n",
        "\n",
        "1. Find $\\boldsymbol{A}^{-1}$, the inverse of matrix $\\boldsymbol{A}$.\n",
        "2. Check that $\\boldsymbol{A}^{-1}$ is the inverse matrix of $\\boldsymbol{A}$."
      ]
    },
    {
      "cell_type": "code",
      "execution_count": null,
      "metadata": {
        "id": "n-Juvfnsptcd",
        "outputId": "f790ac33-ccd4-4827-8ed3-28e6a7ae6d0d",
        "colab": {
          "base_uri": "https://localhost:8080/",
          "height": 98
        }
      },
      "outputs": [
        {
          "output_type": "display_data",
          "data": {
            "text/plain": [
              "Matrix([\n",
              "[ 7/4, -9/4],\n",
              "[-5/4,  7/4]])"
            ],
            "text/latex": "$\\displaystyle \\left[\\begin{matrix}\\frac{7}{4} & - \\frac{9}{4}\\\\- \\frac{5}{4} & \\frac{7}{4}\\end{matrix}\\right]$"
          },
          "metadata": {}
        },
        {
          "output_type": "display_data",
          "data": {
            "text/plain": [
              "Matrix([\n",
              "[7, 9],\n",
              "[5, 7]])"
            ],
            "text/latex": "$\\displaystyle \\left[\\begin{matrix}7 & 9\\\\5 & 7\\end{matrix}\\right]$"
          },
          "metadata": {}
        }
      ],
      "source": [
        "A=sp.Matrix([[7,9],[5,7]])\n",
        "Ainv = A**-1\n",
        "A2 = Ainv**-1\n",
        "\n",
        "display(Ainv,A2)"
      ]
    },
    {
      "cell_type": "markdown",
      "metadata": {
        "id": "58_fyRNOptce"
      },
      "source": [
        "## Question 5\n",
        "Consider two continuously-stirred tanks filled with brine solutions connected with flows feeding into one another.\n",
        "\n",
        "<img src=\"https://github.com/mjksill/CP213-online/blob/master/tutorials/tank-recycle.png?raw=1\" width=\"300\">\n",
        "\n",
        "The first tank is charged with $40 \\ \\rm{L}$ water and $5\\ \\rm{kg}$ salt and the second with $20\\ \\rm{L}$ water and $4\\ \\rm{kg}$ salt. The flow rates into each of the tanks from the other are equivalent at $10\\ \\rm{L\\ min^{-1}}$. Let $x_1$ and $x_2$ be the mass of salt in tanks 1 and 2, respectively, at anytime $t$.  \n",
        "\n",
        "By performing a differential balance on each the tanks show that the resulting differential equations can be written in matrix form as\n",
        "\n",
        "$$\\begin{align*}\n",
        "    \\frac{d}{dt}\\begin{pmatrix}x_1\\\\x_2\\end{pmatrix}= \n",
        "    \\begin{pmatrix}a&b\\\\c&d\\end{pmatrix}\n",
        "    \\begin{pmatrix}x_1\\\\x_2\\end{pmatrix}\n",
        "\\end{align*}$$\n",
        "\n",
        "What are the values of $a$, $b$, $c$ and $d$?\n",
        "\n",
        "Please note: you are not being asked to solve the differential equations, but we will look at how we can do that over the next few weeks. This is another application of linear algebra - solving systems of linear differential equations."
      ]
    },
    {
      "cell_type": "code",
      "source": [
        "import sympy as sp\n",
        "import numpy as np\n",
        "import matplotlib.pylab as plt\n",
        "t = sp.symbols('t')\n",
        "x1 = sp.Function('x_1')(t)\n",
        "x2 = sp.Function('x_2')(t)\n",
        "flowrate1,flowrate2 = 10,10\n",
        "volume1, volume2 = 40,20\n",
        "concentration1, concentration2 = x1/volume1 , x2/volume2\n",
        "massflowrate1, massflowrate2 = concentration1*flowrate1,concentration2*flowrate2\n",
        "massratetank1, massratetank2 = massflowrate2-massflowrate1, massflowrate1-massflowrate2\n",
        "display(massratetank1,massratetank2,sp.Matrix([[sp.Rational(-1,4),sp.Rational(1,2)],[sp.Rational(1,4),sp.Rational(-1/2)]]))\n",
        "ics = {x1.subs(t, 0): 5, x2.subs(t, 0): 4}\n",
        "\n",
        "sol = sp.dsolve([massratetank1 - x1.diff(t), massratetank2 - x2.diff(t)], [x1, x2] , ics=ics)\n",
        "display(sol[0],sol[1])\n",
        "time = np.linspace(0, 20, 50)\n",
        "\n",
        "x1_values = [sol[0].rhs.subs(t, ti) for ti in time]\n",
        "x2_values = [sol[1].rhs.subs(t, ti) for ti in time]\n",
        "\n",
        "plt.plot(time, x1_values, label='Tank 1')\n",
        "plt.plot(time, x2_values, label='Tank 2')\n",
        "plt.xlabel('Time (min)')\n",
        "plt.ylabel('Mass of salt (kg)')\n",
        "plt.legend()\n",
        "plt.show()"
      ],
      "metadata": {
        "id": "BrSAt5Hx87Zi",
        "outputId": "7f8ec548-ab83-4c58-8cfb-b153669a0441",
        "colab": {
          "base_uri": "https://localhost:8080/",
          "height": 438
        }
      },
      "execution_count": null,
      "outputs": [
        {
          "output_type": "display_data",
          "data": {
            "text/plain": [
              "-x_1(t)/4 + x_2(t)/2"
            ],
            "text/latex": "$\\displaystyle - \\frac{\\operatorname{x_{1}}{\\left(t \\right)}}{4} + \\frac{\\operatorname{x_{2}}{\\left(t \\right)}}{2}$"
          },
          "metadata": {}
        },
        {
          "output_type": "display_data",
          "data": {
            "text/plain": [
              "x_1(t)/4 - x_2(t)/2"
            ],
            "text/latex": "$\\displaystyle \\frac{\\operatorname{x_{1}}{\\left(t \\right)}}{4} - \\frac{\\operatorname{x_{2}}{\\left(t \\right)}}{2}$"
          },
          "metadata": {}
        },
        {
          "output_type": "display_data",
          "data": {
            "text/plain": [
              "Matrix([\n",
              "[-1/4,  1/2],\n",
              "[ 1/4, -1/2]])"
            ],
            "text/latex": "$\\displaystyle \\left[\\begin{matrix}- \\frac{1}{4} & \\frac{1}{2}\\\\\\frac{1}{4} & - \\frac{1}{2}\\end{matrix}\\right]$"
          },
          "metadata": {}
        },
        {
          "output_type": "display_data",
          "data": {
            "text/plain": [
              "Eq(x_1(t), 6 - exp(-3*t/4))"
            ],
            "text/latex": "$\\displaystyle \\operatorname{x_{1}}{\\left(t \\right)} = 6 - e^{- \\frac{3 t}{4}}$"
          },
          "metadata": {}
        },
        {
          "output_type": "display_data",
          "data": {
            "text/plain": [
              "Eq(x_2(t), 3 + exp(-3*t/4))"
            ],
            "text/latex": "$\\displaystyle \\operatorname{x_{2}}{\\left(t \\right)} = 3 + e^{- \\frac{3 t}{4}}$"
          },
          "metadata": {}
        },
        {
          "output_type": "display_data",
          "data": {
            "text/plain": [
              "<Figure size 432x288 with 1 Axes>"
            ],
            "image/png": "[encoded data removed]"
          },
          "metadata": {
            "needs_background": "light"
          }
        }
      ]
    },
    {
      "cell_type": "code",
      "source": [
        "import sympy as sp\n",
        "A = sp.Matrix([[3,6,12,15],[2,1,-6,8],[4,-1,-12,13]])\n",
        "A"
      ],
      "metadata": {
        "colab": {
          "base_uri": "https://localhost:8080/",
          "height": 78
        },
        "id": "kKffW4UAI63A",
        "outputId": "6f94595e-5e03-4e52-a697-aedfea3346d3"
      },
      "execution_count": null,
      "outputs": [
        {
          "output_type": "execute_result",
          "data": {
            "text/plain": [
              "Matrix([\n",
              "[3,  6,  12, 15],\n",
              "[2,  1,  -6,  8],\n",
              "[4, -1, -12, 13]])"
            ],
            "text/latex": "$\\displaystyle \\left[\\begin{matrix}3 & 6 & 12 & 15\\\\2 & 1 & -6 & 8\\\\4 & -1 & -12 & 13\\end{matrix}\\right]$"
          },
          "metadata": {},
          "execution_count": 17
        }
      ]
    },
    {
      "cell_type": "code",
      "source": [
        "A.rref(pivots=False)"
      ],
      "metadata": {
        "colab": {
          "base_uri": "https://localhost:8080/",
          "height": 78
        },
        "id": "NIK5_vxYJ2s6",
        "outputId": "ac6cb703-a623-4feb-84ae-c595e4bf7995"
      },
      "execution_count": null,
      "outputs": [
        {
          "output_type": "execute_result",
          "data": {
            "text/plain": [
              "Matrix([\n",
              "[1, 0, 0,  23/7],\n",
              "[0, 1, 0,     1],\n",
              "[0, 0, 1, -1/14]])"
            ],
            "text/latex": "$\\displaystyle \\left[\\begin{matrix}1 & 0 & 0 & \\frac{23}{7}\\\\0 & 1 & 0 & 1\\\\0 & 0 & 1 & - \\frac{1}{14}\\end{matrix}\\right]$"
          },
          "metadata": {},
          "execution_count": 19
        }
      ]
    },
    {
      "cell_type": "code",
      "source": [
        "B= sp.Matrix([[3,6,-12],[2,1,-6],[4,-1,-12]])\n",
        "B.inv()"
      ],
      "metadata": {
        "colab": {
          "base_uri": "https://localhost:8080/",
          "height": 78
        },
        "id": "wz046GjYLkGB",
        "outputId": "053493c4-07f6-47cc-ee95-a6d720af4f4e"
      },
      "execution_count": null,
      "outputs": [
        {
          "output_type": "execute_result",
          "data": {
            "text/plain": [
              "Matrix([\n",
              "[  -1, 14/3, -4/3],\n",
              "[   0,  2/3, -1/3],\n",
              "[-1/3,  3/2, -1/2]])"
            ],
            "text/latex": "$\\displaystyle \\left[\\begin{matrix}-1 & \\frac{14}{3} & - \\frac{4}{3}\\\\0 & \\frac{2}{3} & - \\frac{1}{3}\\\\- \\frac{1}{3} & \\frac{3}{2} & - \\frac{1}{2}\\end{matrix}\\right]$"
          },
          "metadata": {},
          "execution_count": 23
        }
      ]
    }
  ],
  "metadata": {
    "kernelspec": {
      "display_name": "Python 3",
      "language": "python",
      "name": "python3"
    },
    "language_info": {
      "codemirror_mode": {
        "name": "ipython",
        "version": 3
      },
      "file_extension": ".py",
      "mimetype": "text/x-python",
      "name": "python",
      "nbconvert_exporter": "python",
      "pygments_lexer": "ipython3",
      "version": "3.8.5"
    },
    "colab": {
      "provenance": []
    }
  },
  "nbformat": 4,
  "nbformat_minor": 0
}