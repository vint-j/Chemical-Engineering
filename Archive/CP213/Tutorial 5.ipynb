{
  "cells": [
    {
      "cell_type": "markdown",
      "metadata": {
        "id": "KPCB7twpqcvK"
      },
      "source": [
        "# CP213: Tutorial Notebook S2 Week 5"
      ]
    },
    {
      "cell_type": "markdown",
      "metadata": {
        "id": "hSX67XR4qcvR"
      },
      "source": [
        "## Question 1\n",
        "\n",
        "Consider a lamina  bounded by $x^2+y^2=1\\,\\mathrm{m}^2$ with density function $\\rho(x,y) = \\sqrt{x^2+y^2}$, in units of $\\mathrm{g\\,m^{-2}}$.\n",
        "1. Determine the mass of the laminate\n",
        "2. Determine the moment of inertia about the origin.\n",
        "\n"
      ]
    },
    {
      "cell_type": "code",
      "execution_count": null,
      "metadata": {
        "id": "sU533EotqcvU",
        "colab": {
          "base_uri": "https://localhost:8080/",
          "height": 51
        },
        "outputId": "9d3da8b4-2a43-4450-b375-87242ddd00b2"
      },
      "outputs": [
        {
          "output_type": "execute_result",
          "data": {
            "text/plain": [
              "2*pi/3"
            ],
            "text/latex": "$\\displaystyle \\frac{2 \\pi}{3}$"
          },
          "metadata": {},
          "execution_count": 12
        }
      ],
      "source": [
        "import sympy as smp\n",
        "\n",
        "theta, r, m,x,y = smp.symbols('theta, r, m, x, y ')\n",
        "function = smp.sqrt(y**2 + x**2) * r \n",
        "cart = function.subs(x,r*smp.cos(theta)).subs(y,r*smp.sin(theta))\n",
        "ans = smp.integrate(cart, (theta, 0, 2*smp.pi), (r, 0, 1))\n",
        "ans\n",
        "\n",
        "\n",
        "\n"
      ]
    },
    {
      "cell_type": "code",
      "source": [
        "f2 = smp.sqrt(x**2+y**2)*(x**2+y**2)*r\n",
        "cart2 = f2.subs(x,(r*smp.cos(theta))).subs(y,(r*smp.sin(theta)))\n",
        "ans = smp.integrate(cart2, (theta, 0, 2*smp.pi), (r, 0, 1))\n",
        "ans"
      ],
      "metadata": {
        "colab": {
          "base_uri": "https://localhost:8080/",
          "height": 51
        },
        "id": "SyKnmkUqxsTq",
        "outputId": "52031ade-cdb0-4dad-cf75-75cbdcb6c025"
      },
      "execution_count": null,
      "outputs": [
        {
          "output_type": "execute_result",
          "data": {
            "text/plain": [
              "2*pi/5"
            ],
            "text/latex": "$\\displaystyle \\frac{2 \\pi}{5}$"
          },
          "metadata": {},
          "execution_count": 14
        }
      ]
    },
    {
      "cell_type": "markdown",
      "metadata": {
        "id": "hLtL3NKyqcvX"
      },
      "source": [
        "## Question 2\n",
        "\n",
        "For the remaining questions, please refer to the formula sheet  which can be found under the learning materials on the class site for the Taylor series.\n",
        "\n",
        "Differentiate the Maclaurin series of $\\sin{x}$ and show that the result is equivalent to the Maclaurin series for $\\cos{x}$."
      ]
    },
    {
      "cell_type": "code",
      "execution_count": null,
      "metadata": {
        "id": "agn67XoTqcvZ",
        "outputId": "022aae3b-45ad-4140-bd9e-dde3cfa4e5c3",
        "colab": {
          "base_uri": "https://localhost:8080/",
          "height": 54
        }
      },
      "outputs": [
        {
          "output_type": "display_data",
          "data": {
            "text/plain": [
              "x**9/362880 - x**7/5040 + x**5/120 - x**3/6 + x"
            ],
            "text/latex": "$\\displaystyle \\frac{x^{9}}{362880} - \\frac{x^{7}}{5040} + \\frac{x^{5}}{120} - \\frac{x^{3}}{6} + x$"
          },
          "metadata": {}
        }
      ],
      "source": [
        "from sympy.multipledispatch.dispatcher import restart_ordering\n",
        "import sympy as smp\n",
        "x = smp.symbols('x')\n",
        "func = smp.sin(x)\n",
        "n = 10\n",
        "x0 = 0\n",
        "res = func.subs(x,x0)\n",
        "for i in range(1,n):\n",
        "  res += smp.diff(func,x,i).subs(x,x0)*(x-x0)**i/smp.factorial(i)\n",
        "display(res)"
      ]
    },
    {
      "cell_type": "code",
      "source": [
        "x = smp.symbols('x')\n",
        "\n",
        "func2 = smp.cos(x)\n",
        "n = 10\n",
        "x0 = 0\n",
        "result2 = func2.subs(x,x0)\n",
        "\n",
        "for i in range(1,n):\n",
        "  result2 += smp.diff(func2,x,i).subs(x,x0)*(x-x0)**i/smp.factorial(i)\n",
        "display(result2)"
      ],
      "metadata": {
        "colab": {
          "base_uri": "https://localhost:8080/",
          "height": 54
        },
        "id": "c7bhyF_Q6ISs",
        "outputId": "9c4e4667-a62d-4967-ac83-c418b526c171"
      },
      "execution_count": null,
      "outputs": [
        {
          "output_type": "display_data",
          "data": {
            "text/plain": [
              "x**8/40320 - x**6/720 + x**4/24 - x**2/2 + 1"
            ],
            "text/latex": "$\\displaystyle \\frac{x^{8}}{40320} - \\frac{x^{6}}{720} + \\frac{x^{4}}{24} - \\frac{x^{2}}{2} + 1$"
          },
          "metadata": {}
        }
      ]
    },
    {
      "cell_type": "code",
      "source": [
        "smp.diff(res,x)"
      ],
      "metadata": {
        "colab": {
          "base_uri": "https://localhost:8080/",
          "height": 54
        },
        "id": "xUWWWzOh6TXl",
        "outputId": "8e7c8d3c-610f-48c3-f788-092d98f4a71f"
      },
      "execution_count": null,
      "outputs": [
        {
          "output_type": "execute_result",
          "data": {
            "text/plain": [
              "x**8/40320 - x**6/720 + x**4/24 - x**2/2 + 1"
            ],
            "text/latex": "$\\displaystyle \\frac{x^{8}}{40320} - \\frac{x^{6}}{720} + \\frac{x^{4}}{24} - \\frac{x^{2}}{2} + 1$"
          },
          "metadata": {},
          "execution_count": 7
        }
      ]
    },
    {
      "cell_type": "markdown",
      "metadata": {
        "id": "pwaw7XBCqcvZ"
      },
      "source": [
        "## Question 3\n",
        "\n",
        "\n",
        "A useful application of Taylor series is that we can determine the limit a function approaches as x tends to a particular point. \n",
        "\\begin{align*}\n",
        "    \\lim_{x\\to 0} \\frac{e^x - 1 - x}{x^2}\n",
        "\\end{align*}\n",
        "As a starting point attempt try evaluating the expression with a calculator at values close to $x=0$ (you may be surprised by the result). Then, using appropriate Taylor series substitutions determine evaluate the above expression.\n",
        "\n"
      ]
    },
    {
      "cell_type": "code",
      "execution_count": null,
      "metadata": {
        "id": "cmrwClCZqcvb",
        "colab": {
          "base_uri": "https://localhost:8080/",
          "height": 51
        },
        "outputId": "cb6afa5e-f299-4374-d7ee-0873823782d5"
      },
      "outputs": [
        {
          "output_type": "execute_result",
          "data": {
            "text/plain": [
              "1/2"
            ],
            "text/latex": "$\\displaystyle \\frac{1}{2}$"
          },
          "metadata": {},
          "execution_count": 8
        }
      ],
      "source": [
        "from sympy import limit, sin, oo\n",
        "from sympy.abc import x\n",
        "limit((smp.exp(x)-1-x)/x**2, x, 0)"
      ]
    },
    {
      "cell_type": "code",
      "source": [
        "x = smp.symbols('x')\n",
        "\n",
        "func2 = (smp.exp(x)-1-x)/x**2\n",
        "n = 10\n",
        "x0 = 1/2\n",
        "result2 = func2.subs(x,x0)\n",
        "\n",
        "for i in range(1,n):\n",
        "  result2 += smp.diff(func2,x,i).subs(x,x0)*(x-x0)**i/smp.factorial(i)\n",
        "display(result2)"
      ],
      "metadata": {
        "colab": {
          "base_uri": "https://localhost:8080/",
          "height": 84
        },
        "id": "UmQakLL5_8Dy",
        "outputId": "fe69020d-ef45-42ce-fe7a-cb9ef2c91ec3"
      },
      "execution_count": null,
      "outputs": [
        {
          "output_type": "display_data",
          "data": {
            "text/plain": [
              "0.215344751598462*x + 3.80504451485288e-8*(x - 0.5)**9 + 4.15494642327004e-7*(x - 0.5)**8 + 4.11842657294051e-6*(x - 0.5)**7 + 3.66686043405383e-5*(x - 0.5)**6 + 0.000289429025312623*(x - 0.5)**5 + 0.00199129447736945*(x - 0.5)**4 + 0.0116756921888044*(x - 0.5)**3 + 0.0565232038043586*(x - 0.5)**2 + 0.487212707001282"
            ],
            "text/latex": "$\\displaystyle 0.215344751598462 x + 3.80504451485288 \\cdot 10^{-8} \\left(x - 0.5\\right)^{9} + 4.15494642327004 \\cdot 10^{-7} \\left(x - 0.5\\right)^{8} + 4.11842657294051 \\cdot 10^{-6} \\left(x - 0.5\\right)^{7} + 3.66686043405383 \\cdot 10^{-5} \\left(x - 0.5\\right)^{6} + 0.000289429025312623 \\left(x - 0.5\\right)^{5} + 0.00199129447736945 \\left(x - 0.5\\right)^{4} + 0.0116756921888044 \\left(x - 0.5\\right)^{3} + 0.0565232038043586 \\left(x - 0.5\\right)^{2} + 0.487212707001282$"
          },
          "metadata": {}
        }
      ]
    },
    {
      "cell_type": "markdown",
      "metadata": {
        "id": "fYHmyolRqcvc"
      },
      "source": [
        "## Question 4\n",
        "\n",
        "Find an approximate value for\n",
        "\\begin{align*}\n",
        "    \\int_0^1 \\cos({x^2})\\, dx\n",
        "\\end{align*}\n",
        "giving your answer to three decimal points by finding the first three non-zero terms of the Maclaurin series for $\\cos({x^2})$. Using the fourth non-zero Maclaurin series term, explain why the error in using this estimate is less than 0.001."
      ]
    },
    {
      "cell_type": "code",
      "execution_count": null,
      "metadata": {
        "id": "D6HEU3sgqcvd",
        "colab": {
          "base_uri": "https://localhost:8080/",
          "height": 88
        },
        "outputId": "0badc787-8462-4d3e-df28-d1a9adc806c4"
      },
      "outputs": [
        {
          "output_type": "display_data",
          "data": {
            "text/plain": [
              "x**8/24 - x**4/2 + 1"
            ],
            "text/latex": "$\\displaystyle \\frac{x^{8}}{24} - \\frac{x^{4}}{2} + 1$"
          },
          "metadata": {}
        },
        {
          "output_type": "execute_result",
          "data": {
            "text/plain": [
              "977/1080"
            ],
            "text/latex": "$\\displaystyle \\frac{977}{1080}$"
          },
          "metadata": {},
          "execution_count": 17
        }
      ],
      "source": [
        "import sympy as smp\n",
        "x = smp.symbols('x')\n",
        "\n",
        "func2 = (smp.cos(x**2))\n",
        "n = 9\n",
        "taylor_expansion = smp.series(func2, x, 0, n).removeO()\n",
        "display(taylor_expansion)\n",
        "\n",
        "smp.integrate(taylor_expansion,(x,0,1))"
      ]
    },
    {
      "cell_type": "code",
      "source": [
        "n = 13\n",
        "taylor_expansion = smp.series(func2, x, 0, n).removeO()\n",
        "display(taylor_expansion)"
      ],
      "metadata": {
        "colab": {
          "base_uri": "https://localhost:8080/",
          "height": 88
        },
        "id": "YlcoZxDgt3Zj",
        "outputId": "7f240043-f600-4ce5-fdbc-f488b451cacd"
      },
      "execution_count": null,
      "outputs": [
        {
          "output_type": "display_data",
          "data": {
            "text/plain": [
              "-x**12/720 + x**8/24 - x**4/2 + 1"
            ],
            "text/latex": "$\\displaystyle - \\frac{x^{12}}{720} + \\frac{x^{8}}{24} - \\frac{x^{4}}{2} + 1$"
          },
          "metadata": {}
        },
        {
          "output_type": "execute_result",
          "data": {
            "text/plain": [
              "25399/28080"
            ],
            "text/latex": "$\\displaystyle \\frac{25399}{28080}$"
          },
          "metadata": {},
          "execution_count": 12
        }
      ]
    },
    {
      "cell_type": "code",
      "source": [
        "#Fourth term\n",
        "f = -x**12/720\n",
        "smp.integrate(f,(x,0,1))"
      ],
      "metadata": {
        "colab": {
          "base_uri": "https://localhost:8080/",
          "height": 51
        },
        "id": "yz1agVHNt5pV",
        "outputId": "418f640e-1a78-47c7-ca1e-7394a8ee84c5"
      },
      "execution_count": null,
      "outputs": [
        {
          "output_type": "execute_result",
          "data": {
            "text/plain": [
              "-1/9360"
            ],
            "text/latex": "$\\displaystyle - \\frac{1}{9360}$"
          },
          "metadata": {},
          "execution_count": 15
        }
      ]
    },
    {
      "cell_type": "markdown",
      "source": [
        "this is a tiny area therefor the error is very small"
      ],
      "metadata": {
        "id": "uo-orecGuIT9"
      }
    },
    {
      "cell_type": "markdown",
      "metadata": {
        "id": "NGZQPUrHqcvf"
      },
      "source": [
        "## Bonus Python question\n",
        "\n",
        "Try to follow this excellent resource for [Taylor Series in Python}](https://pythonforundergradengineers.com/creating-taylor-series-functions-with-python.html) by Peter Kazarinoff. Copy the code blocks 14 and 18, which relate to $\\cos{x}$, into the notebook and try to adapt the code for $\\sin{x}$.\n",
        "\n",
        "NB. It may be helpful to note that summation form of the taylor expansion for $\\sin{x}$ is given by:\n",
        "\\begin{align*}\n",
        "    \\sin \\left( x \\right) \\approx \\sum\\limits_{n = 0}^\\infty  {{{\\left( { - 1} \\right)}^n}\\frac{{{x^{2n+1}}}}{{\\left( {2n+1} \\right)!}}}\n",
        "\\end{align*}"
      ]
    },
    {
      "cell_type": "code",
      "execution_count": null,
      "metadata": {
        "id": "FCPW6ETOqcvg"
      },
      "outputs": [],
      "source": [
        "import math\n",
        "\n",
        "def func_sin(x, n):\n",
        "    sin_approx = 0\n",
        "    for i in range(n):\n",
        "        coef = (-1)**i\n",
        "        num = ((x -np.pi/2)**(2*i))\n",
        "        denom = math.factorial(2*i)\n",
        "        sin_approx += ( coef ) * ( (num)/(denom) )\n",
        "    \n",
        "    return sin_approx "
      ]
    },
    {
      "cell_type": "code",
      "source": [
        "import math\n",
        "import numpy as np\n",
        "import matplotlib.pyplot as plt\n",
        "# if using a Jupyter notebook, include:\n",
        "%matplotlib inline\n",
        "\n",
        "angles = np.arange(-2*np.pi,2*np.pi,0.1)\n",
        "p_sin = np.sin(angles) \n",
        "\n",
        "fig, ax = plt.subplots()\n",
        "ax.plot(angles,p_sin)\n",
        "\n",
        "# add lines for between 1 and 6 terms in the Taylor Series\n",
        "for i in range(1,16):\n",
        "    t_sin = [func_sin(angle,i)  for angle in angles]\n",
        "    ax.plot(angles,t_sin)\n",
        "\n",
        "ax.set_ylim([-7,4])\n",
        "\n",
        "# set up legend\n",
        "legend_lst = ['sin() function']\n",
        "for i in range(1,6):\n",
        "    legend_lst.append(f'Taylor Series - {i} terms')\n",
        "ax.legend(legend_lst, loc=3)\n",
        "\n",
        "plt.show()\n"
      ],
      "metadata": {
        "colab": {
          "base_uri": "https://localhost:8080/",
          "height": 269
        },
        "id": "4w92n1nruMaq",
        "outputId": "e38a77a9-c1ef-4db9-9d22-9439b13325a0"
      },
      "execution_count": null,
      "outputs": [
        {
          "output_type": "display_data",
          "data": {
            "text/plain": [
              "<Figure size 432x288 with 1 Axes>"
            ],
            "image/png": "[encoded data removed]"
          },
          "metadata": {
            "needs_background": "light"
          }
        }
      ]
    }
  ],
  "metadata": {
    "kernelspec": {
      "display_name": "Python 3",
      "language": "python",
      "name": "python3"
    },
    "language_info": {
      "codemirror_mode": {
        "name": "ipython",
        "version": 3
      },
      "file_extension": ".py",
      "mimetype": "text/x-python",
      "name": "python",
      "nbconvert_exporter": "python",
      "pygments_lexer": "ipython3",
      "version": "3.9.1"
    },
    "colab": {
      "provenance": []
    }
  },
  "nbformat": 4,
  "nbformat_minor": 0
}