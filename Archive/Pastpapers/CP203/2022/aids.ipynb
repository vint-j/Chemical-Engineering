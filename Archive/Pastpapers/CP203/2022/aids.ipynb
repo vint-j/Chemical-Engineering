{
 "cells": [
  {
   "cell_type": "code",
   "execution_count": 14,
   "metadata": {},
   "outputs": [
    {
     "data": {
      "text/latex": [
       "$\\displaystyle 11.3834332549378$"
      ],
      "text/plain": [
       "11.3834332549378"
      ]
     },
     "execution_count": 14,
     "metadata": {},
     "output_type": "execute_result"
    }
   ],
   "source": [
    "import sympy as sp \n",
    "v=sp.symbols('v')\n",
    "R=8.314e-2\n",
    "T=240\n",
    "a=850\n",
    "b=0.4\n",
    "P=(R*T/(v-b))-(a/(v*v))\n",
    "sp.integrate(-P,(v,16,28))"
   ]
  },
  {
   "cell_type": "code",
   "execution_count": 15,
   "metadata": {},
   "outputs": [
    {
     "data": {
      "text/latex": [
       "$\\displaystyle 11.3834332549378$"
      ],
      "text/plain": [
       "11.3834332549378"
      ]
     },
     "execution_count": 15,
     "metadata": {},
     "output_type": "execute_result"
    }
   ],
   "source": [
    "import sympy as sp\n",
    "\n",
    "v = sp.symbols('v')\n",
    "R = 0.08314\n",
    "T = 240\n",
    "a = 850\n",
    "b = 0.4\n",
    "P = (R * T / (v - b)) - (a / (v * v))\n",
    "\n",
    "work = sp.integrate(-P, (v, 16, 28))\n",
    "work\n"
   ]
  }
 ],
 "metadata": {
  "kernelspec": {
   "display_name": "Python 3",
   "language": "python",
   "name": "python3"
  },
  "language_info": {
   "codemirror_mode": {
    "name": "ipython",
    "version": 3
   },
   "file_extension": ".py",
   "mimetype": "text/x-python",
   "name": "python",
   "nbconvert_exporter": "python",
   "pygments_lexer": "ipython3",
   "version": "3.10.11"
  },
  "orig_nbformat": 4
 },
 "nbformat": 4,
 "nbformat_minor": 2
}
